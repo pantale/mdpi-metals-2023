{
 "cells": [
  {
   "cell_type": "markdown",
   "id": "4a200ea4-593d-402e-ab3a-de65724edff3",
   "metadata": {},
   "source": [
    "# Arrhenius with 6 strain rates"
   ]
  },
  {
   "cell_type": "code",
   "execution_count": null,
   "id": "bbdbe72b-66f3-4ce3-b148-e304db0d65b5",
   "metadata": {
    "tags": []
   },
   "outputs": [],
   "source": [
    "import numpy as np\n",
    "import matplotlib.pyplot as plt\n",
    "plt.style.use(\"mime\")\n",
    "import h5py\n",
    "from scipy.optimize import curve_fit\n",
    "import lmfit\n",
    "\n",
    "colors = ['#bb0000', '#00bb00', \"#0000bb\", '#bbbb00', '#bb00bb', \"#00bbbb\", '#bbbbbb', '#770000', '#007700', \"#000077\", '#777700', '#770077', \"#007777\", '#777777', '#440000', '#004400', \"#000044\", '#444400', '#440044', \"#0044444\", '#444444','#000000']"
   ]
  },
  {
   "cell_type": "code",
   "execution_count": null,
   "id": "af68263b-3f50-4165-a080-93d3bf725b7c",
   "metadata": {
    "tags": []
   },
   "outputs": [],
   "source": [
    "baseSize = (8, 6)  # Base size of a subplot\n",
    "\n",
    "def sbPlot(n):\n",
    "    if (n == 1): return 1, 1\n",
    "    if (n <= 2): return 1, 2\n",
    "    if (n <= 4): return 2, 2\n",
    "    if (n <= 6): return 3, 2\n",
    "    if (n <= 9): return 3, 3\n",
    "    if (n <= 12): return 4, 3\n",
    "    return 0, 0\n",
    "\n",
    "def sbPlotSize(n):\n",
    "    x, y = sbPlot(n)\n",
    "    return baseSize[0] * y, baseSize[1] * x"
   ]
  },
  {
   "cell_type": "code",
   "execution_count": null,
   "id": "198c0372-b038-480d-a09e-c46b56961d3c",
   "metadata": {
    "tags": []
   },
   "outputs": [],
   "source": [
    "h5f = h5py.File('../GleebleData.h5','r')\n",
    "allData = h5f['all'][:]\n",
    "shortData = h5f['short'][:]\n",
    "h5f.close()"
   ]
  },
  {
   "cell_type": "code",
   "execution_count": null,
   "id": "02c662c3-67a2-45a6-9faa-4f6b55925d63",
   "metadata": {
    "tags": []
   },
   "outputs": [],
   "source": [
    "allData.shape, shortData.shape"
   ]
  },
  {
   "cell_type": "markdown",
   "id": "a7e15b5e-ce7b-4a8b-8976-5ecff3badc9b",
   "metadata": {},
   "source": [
    "Remove first point of each curve, where $\\varepsilon^p=0$"
   ]
  },
  {
   "cell_type": "code",
   "execution_count": null,
   "id": "db42b9ee-29f0-48cd-92c2-d61c8088ca5c",
   "metadata": {
    "tags": []
   },
   "outputs": [],
   "source": [
    "allData = allData[allData[:,0] != 0]\n",
    "shortData = shortData[shortData[:,0]!=0]\n",
    "identData = shortData"
   ]
  },
  {
   "cell_type": "code",
   "execution_count": null,
   "id": "48e21380-ff65-4309-8a8b-dc1855ad467c",
   "metadata": {
    "tags": []
   },
   "outputs": [],
   "source": [
    "strains = np.unique(identData[:,0])\n",
    "allStrains = np.unique(allData[:,0])\n",
    "epsps = np.unique(identData[:,1])\n",
    "temperatures = np.unique(identData[:,2])\n",
    "nEps = len(strains)\n",
    "nEpsp = len(epsps)\n",
    "nTemp = len(temperatures)\n",
    "#strains, epsps, temperatures, nEps, nEpsp, nTemp"
   ]
  },
  {
   "cell_type": "markdown",
   "id": "e8d22c82-7124-4579-a4a6-dabf8b931a24",
   "metadata": {},
   "source": [
    "# Identification of the Arrhenius parameters\n",
    "$\\sigma^y\\left(\\varepsilon,\\dot\\varepsilon,T \\right) = \\frac{1}{\\alpha(\\varepsilon)} \\ln\\left\\{\\left(\\frac{\\dot\\varepsilon \\exp{\\left(\\frac{Q(\\varepsilon)}{RT}\\right)}}{A(\\varepsilon)}\\right)^{\\frac{1}{n(\\varepsilon)}} + \\left[1 + \\left(\\frac{\\dot\\varepsilon \\exp{\\left(\\frac{Q(\\varepsilon)}{RT}\\right)}}{A(\\varepsilon)}\\right)^{\\frac{2}{n(\\varepsilon)}}\\right]^{\\frac{1}{2}}\\right\\}$"
   ]
  },
  {
   "cell_type": "code",
   "execution_count": null,
   "id": "a0d8d069-e7b1-40ca-8ae0-d9a5bf241530",
   "metadata": {
    "tags": []
   },
   "outputs": [],
   "source": [
    "T0 = temperatures[0]\n",
    "epsp0 = epsps[0]\n",
    "Tm = 1460\n",
    "order = 9\n",
    "polyOrderA = order\n",
    "polyOrderAlpha = order\n",
    "polyOrdern = order\n",
    "polyOrderQ = order"
   ]
  },
  {
   "cell_type": "code",
   "execution_count": null,
   "id": "833dbb90-3225-4232-a6b1-c00daef4c08e",
   "metadata": {
    "tags": []
   },
   "outputs": [],
   "source": [
    "def genParams(params, label, order, srange=None):\n",
    "    for i in range(order+1):\n",
    "        if srange==None :\n",
    "            params.add(label+str(i), value=0)\n",
    "        else:\n",
    "            params.add(label+str(i), value=0, min=-srange, max= +srange)"
   ]
  },
  {
   "cell_type": "code",
   "execution_count": null,
   "id": "37797bf3-ae9c-4edc-93b4-d7e5b83b4516",
   "metadata": {
    "tags": []
   },
   "outputs": [],
   "source": [
    "def polyFunc(eps, opt):\n",
    "    res = 0\n",
    "    i = 0\n",
    "    for k in opt.keys():\n",
    "        res += opt[k]*eps**i\n",
    "        i += 1\n",
    "    return res"
   ]
  },
  {
   "cell_type": "markdown",
   "id": "ec72f545-682a-48ba-9a95-885a66f99ffd",
   "metadata": {},
   "source": [
    "Parameter $\\alpha$"
   ]
  },
  {
   "cell_type": "code",
   "execution_count": null,
   "id": "f47bbeed-f6d6-4d18-9424-0bcb3cda837e",
   "metadata": {
    "tags": []
   },
   "outputs": [],
   "source": [
    "n1 = np.empty((0), float)\n",
    "for strain in strains:\n",
    "    nn1 = np.empty((0), float)\n",
    "    for T in temperatures:\n",
    "        data = identData[(identData[:,0]==strain) & (identData[:,2]==T)]\n",
    "        a, b = np.polyfit(np.log(data[:,1]), np.log(data[:,3]), 1)\n",
    "        nn1 = np.append(nn1, 1/a)\n",
    "    n1 = np.append(n1, nn1.mean())\n",
    "\n",
    "beta = np.empty((0), float)\n",
    "for strain in strains:\n",
    "    beta1 = np.empty((0), float)\n",
    "    for T in temperatures:\n",
    "        data = identData[(identData[:,0]==strain) & (identData[:,2]==T)]\n",
    "        a, b = np.polyfit(np.log(data[:,1]), (data[:,3]), 1)\n",
    "        beta1 = np.append(beta1, 1/a)\n",
    "    beta = np.append(beta, beta1.mean())\n",
    "\n",
    "alpha = beta / n1\n",
    "#alpha"
   ]
  },
  {
   "cell_type": "markdown",
   "id": "6b03177a-e380-4666-bb92-27052591871d",
   "metadata": {},
   "source": [
    "Parameter $Q$ and $n$"
   ]
  },
  {
   "cell_type": "code",
   "execution_count": null,
   "id": "1a715847-9a03-4daa-91a7-4c3c826d9a78",
   "metadata": {
    "tags": []
   },
   "outputs": [],
   "source": [
    "n = np.empty((0), float)\n",
    "i = 0\n",
    "for strain in strains:\n",
    "    nn1 = np.empty((0), float)\n",
    "    for T in temperatures:\n",
    "        data = identData[(identData[:,0]==strain) & (identData[:,2]==T)]\n",
    "        a, b = np.polyfit(np.log(data[:,1]), np.log(np.sinh(alpha[i]*data[:,3])), 1)\n",
    "        nn1 = np.append(nn1, 1/a)\n",
    "    n = np.append(n, nn1.mean())\n",
    "    i += 1\n",
    "    \n",
    "Qf = np.empty((0), float)\n",
    "i = 0\n",
    "for strain in strains:\n",
    "    nn1 = np.empty((0), float)\n",
    "    for epsp in epsps:\n",
    "        data = identData[(identData[:,0]==strain) & (identData[:,1]==epsp)]\n",
    "        a, b =  np.polyfit(1/(data[:,2]+273), np.log(np.sinh(alpha[i]*data[:,3])), 1)\n",
    "        nn1 = np.append(nn1, a)\n",
    "    Qf = np.append(Qf, nn1.mean())\n",
    "    i += 1\n",
    "\n",
    "R = 8.314\n",
    "Q = n * R * Qf # For the first range of temperatures\n",
    "#n, Q"
   ]
  },
  {
   "cell_type": "markdown",
   "id": "7ef6f040-c6e8-4f01-b456-619a20f67443",
   "metadata": {},
   "source": [
    "Parameters $\\ln(A)$"
   ]
  },
  {
   "cell_type": "code",
   "execution_count": null,
   "id": "6657aead-00b7-4d6a-81e3-84cc68a3b5a8",
   "metadata": {
    "tags": []
   },
   "outputs": [],
   "source": [
    "lnA = np.empty((0), float)\n",
    "i = 0\n",
    "for strain in strains:\n",
    "    nn1 = np.empty((0), float)\n",
    "    for T in temperatures:\n",
    "        data = identData[(identData[:,0]==strain) & (identData[:,2]==T)]\n",
    "        a, b = np.polyfit(np.log(data[:,1]), np.log(np.sinh(alpha[i]*data[:,3])), 1)\n",
    "        nn1 = np.append(nn1,(Q[i]/(R*(T+273)) - n[i]*b))\n",
    "    lnA = np.append(lnA, nn1.mean())\n",
    "    i += 1\n",
    "#lnA"
   ]
  },
  {
   "cell_type": "markdown",
   "id": "997e41bb-4292-4cef-a73b-636b736327cb",
   "metadata": {},
   "source": [
    "Evaluation of $\\log(A_i)$ parameters"
   ]
  },
  {
   "cell_type": "code",
   "execution_count": null,
   "id": "0f10ad13-51fb-4d73-8707-d7fdd1d0dbf2",
   "metadata": {
    "tags": []
   },
   "outputs": [],
   "source": [
    "lnAi = lmfit.Parameters()\n",
    "genParams(lnAi, 'A', polyOrderA)\n",
    "lnAi"
   ]
  },
  {
   "cell_type": "code",
   "execution_count": null,
   "id": "94601cf1-fb71-4b52-8a49-c9871754ab0f",
   "metadata": {
    "tags": []
   },
   "outputs": [],
   "source": [
    "def objLnA(opt):\n",
    "    return lnA - polyFunc(strains, opt)    "
   ]
  },
  {
   "cell_type": "code",
   "execution_count": null,
   "id": "a8ee22af-9db6-4533-896c-b0b82be80629",
   "metadata": {
    "tags": []
   },
   "outputs": [],
   "source": [
    "fitLna = lmfit.minimize(objLnA, lnAi)\n",
    "fitLna.params"
   ]
  },
  {
   "cell_type": "code",
   "execution_count": null,
   "id": "b44b4bf1-cf11-4f07-bc24-c9d7a18fdff0",
   "metadata": {
    "tags": []
   },
   "outputs": [],
   "source": [
    "plt.figure()\n",
    "plt.plot(strains, lnA, colors[0], marker='s', linestyle = 'none')\n",
    "plt.plot(strains, polyFunc(strains, fitLna.params), colors[1], label=r'$Fitted$', linewidth = 3)\n",
    "plt.xlabel(r'$\\varepsilon$', fontsize = 16) # Labels the x axis\n",
    "plt.ylabel(r'$\\ln (A)$', fontsize = 16) # Labels the y axis\n",
    "plt.show()"
   ]
  },
  {
   "cell_type": "markdown",
   "id": "41933bc3-97a7-4f02-9f5e-95180d689741",
   "metadata": {},
   "source": [
    "Evaluation of $\\alpha_i$ parameters"
   ]
  },
  {
   "cell_type": "code",
   "execution_count": null,
   "id": "1a830c1f-6795-4c63-88d8-7084504604c4",
   "metadata": {
    "tags": []
   },
   "outputs": [],
   "source": [
    "alphai = lmfit.Parameters()\n",
    "genParams(alphai, 'alpha', polyOrderAlpha, 100)\n",
    "alphai"
   ]
  },
  {
   "cell_type": "code",
   "execution_count": null,
   "id": "e81dc23b-6c55-48ce-b9f6-967ecc5f2eb4",
   "metadata": {
    "tags": []
   },
   "outputs": [],
   "source": [
    "def objAlpha(opt):\n",
    "    return alpha - polyFunc(strains, opt)    "
   ]
  },
  {
   "cell_type": "code",
   "execution_count": null,
   "id": "802c2d3c-70b3-456d-8e41-51748ed35664",
   "metadata": {
    "tags": []
   },
   "outputs": [],
   "source": [
    "fitAlpha = lmfit.minimize(objAlpha, alphai)\n",
    "fitAlpha.params"
   ]
  },
  {
   "cell_type": "code",
   "execution_count": null,
   "id": "073f3590-cfcf-4df4-a2cc-491fad059dd1",
   "metadata": {
    "tags": []
   },
   "outputs": [],
   "source": [
    "plt.figure()\n",
    "plt.plot(strains, alpha, colors[0], marker='s', linestyle = 'none')\n",
    "plt.plot(strains, polyFunc(strains, fitAlpha.params), colors[1], label=r'$Fitted$', linewidth = 3)\n",
    "plt.xlabel(r'$\\varepsilon$', fontsize = 16) # Labels the x axis\n",
    "plt.ylabel(r'$\\alpha$', fontsize = 16) # Labels the y axis\n",
    "plt.show()"
   ]
  },
  {
   "cell_type": "markdown",
   "id": "b54924d3-4acb-44c0-9d66-a177c7ef542e",
   "metadata": {},
   "source": [
    "Evaluation of $n_i$ parameters"
   ]
  },
  {
   "cell_type": "code",
   "execution_count": null,
   "id": "63b758cc-c172-45d0-99d5-067d804c0f9e",
   "metadata": {
    "tags": []
   },
   "outputs": [],
   "source": [
    "ni = lmfit.Parameters()\n",
    "genParams(ni, 'n', polyOrdern)\n",
    "ni"
   ]
  },
  {
   "cell_type": "code",
   "execution_count": null,
   "id": "9df8618f-04c5-4468-bb60-369c6bbdac14",
   "metadata": {
    "tags": []
   },
   "outputs": [],
   "source": [
    "def objN(opt):\n",
    "    return n - polyFunc(strains, opt)    "
   ]
  },
  {
   "cell_type": "code",
   "execution_count": null,
   "id": "08b48049-8138-4fba-8c85-49bd6fce2b7b",
   "metadata": {
    "tags": []
   },
   "outputs": [],
   "source": [
    "fitN = lmfit.minimize(objN, ni)\n",
    "fitN.params"
   ]
  },
  {
   "cell_type": "code",
   "execution_count": null,
   "id": "92166cec-ed99-4416-bc80-81da8556086f",
   "metadata": {
    "tags": []
   },
   "outputs": [],
   "source": [
    "plt.figure()\n",
    "plt.plot(strains, n, colors[0], marker='s', linestyle = 'none')\n",
    "plt.plot(strains, polyFunc(strains, fitN.params), colors[1], label=r'$Fitted$', linewidth = 3)\n",
    "plt.xlabel(r'$\\varepsilon$', fontsize = 16) # Labels the x axis\n",
    "plt.ylabel(r'$n$', fontsize = 16) # Labels the y axis\n",
    "plt.show()"
   ]
  },
  {
   "cell_type": "markdown",
   "id": "cb994fc2-818e-49d3-a3de-f1b59d07b78f",
   "metadata": {},
   "source": [
    "Evaluation of $Q_i$ parameters"
   ]
  },
  {
   "cell_type": "code",
   "execution_count": null,
   "id": "3c019b8c-020a-4a55-8fe2-618a514c778b",
   "metadata": {
    "tags": []
   },
   "outputs": [],
   "source": [
    "Qi = lmfit.Parameters()\n",
    "genParams(Qi, 'Q', polyOrderQ)\n",
    "Qi"
   ]
  },
  {
   "cell_type": "code",
   "execution_count": null,
   "id": "c6aedce7-9028-4b98-beea-9abfbf2a35ca",
   "metadata": {
    "tags": []
   },
   "outputs": [],
   "source": [
    "def objQ(opt):\n",
    "    return Q - polyFunc(strains, opt)    "
   ]
  },
  {
   "cell_type": "code",
   "execution_count": null,
   "id": "4aaaaad6-7218-409e-b26a-c357a5bd8c58",
   "metadata": {
    "tags": []
   },
   "outputs": [],
   "source": [
    "fitQ = lmfit.minimize(objQ, Qi)\n",
    "fitQ.params"
   ]
  },
  {
   "cell_type": "code",
   "execution_count": null,
   "id": "5d2835e7-797e-43a5-9203-11dc395e13aa",
   "metadata": {
    "tags": []
   },
   "outputs": [],
   "source": [
    "plt.figure()\n",
    "plt.plot(strains, Q, colors[0], marker='s', linestyle = 'none')\n",
    "plt.plot(strains, polyFunc(strains, fitQ.params), colors[1], label=r'$Fitted$', linewidth = 3)\n",
    "plt.xlabel(r'$\\varepsilon$', fontsize = 16) # Labels the x axis\n",
    "plt.ylabel(r'$Q$', fontsize = 16) # Labels the y axis\n",
    "plt.show()"
   ]
  },
  {
   "cell_type": "code",
   "execution_count": null,
   "id": "a1205f3b-a488-49fe-8ff4-dc7751de6a38",
   "metadata": {
    "tags": []
   },
   "outputs": [],
   "source": [
    "def Arh(eps, epsp, T):\n",
    "    parAlpha = polyFunc(eps, fitAlpha.params)\n",
    "    parQ = polyFunc(eps, fitQ.params)\n",
    "    parN = polyFunc(eps, fitN.params)\n",
    "    parA = np.exp(polyFunc(eps, fitLna.params))\n",
    "    parZ = epsp * np.exp(parQ/(R*(T+273)))\n",
    "    parZA = parZ/parA\n",
    "    return (1/parAlpha) * np.log(parZA**(1/parN) + (1 + parZA**(2/parN))**(1/2))"
   ]
  },
  {
   "cell_type": "code",
   "execution_count": null,
   "id": "2562a94c-b754-44bb-8e42-c353cab44217",
   "metadata": {
    "tags": []
   },
   "outputs": [],
   "source": [
    "# Plot the curves\n",
    "from matplotlib.lines import Line2D\n",
    "def create_dummy_line(**kwds):\n",
    "    return Line2D([], [], **kwds)\n",
    "\n",
    "plt.figure(figsize = sbPlotSize(nEpsp))\n",
    "plt.rc('text', usetex = True)\n",
    "idx = 1\n",
    "plt.subplots_adjust(hspace = 0.3)\n",
    "for epsp in list(epsps):\n",
    "    xs, ys = sbPlot(nEpsp)\n",
    "    plt.subplot(xs, ys, idx)\n",
    "    sbdata = shortData[shortData[:,1]==epsp]\n",
    "    cl =0\n",
    "    for temp in list(temperatures):\n",
    "        sbdata1 = sbdata[sbdata[:,2]==temp]\n",
    "        plt.plot(sbdata1[:,0], sbdata1[:,3], colors[cl], marker = 's', markersize = 5, linestyle = 'none')\n",
    "        plt.plot(strains, Arh(strains, epsp, temp), colors[cl], linewidth = 2.5)\n",
    "        plt.rcParams['xtick.labelsize'] = 16\n",
    "        plt.rcParams['ytick.labelsize'] = 16\n",
    "        cl +=1\n",
    "    plt.xlim(0, 0.7)\n",
    "    plt.ylim(bottom=0)\n",
    "    plt.xlabel(r'strain $\\varepsilon$', fontsize = 16) # Labels the x axis\n",
    "    plt.ylabel(r'flow stress $\\sigma^y$ (MPa)', fontsize = 16) # Labels the y axis\n",
    "    plt.title(r'strain rate $\\dot{\\varepsilon} = ' + str(epsp) + '$ s$^{-1}$', fontsize = 16) # Self explicit command\n",
    "    idx += 1\n",
    "    \n",
    "legendLines = []\n",
    "cl = 0\n",
    "for temp in list(temperatures):\n",
    "    legendLines.append((r'$T=$' + str(int(temp)) + r'$^{\\circ}$C', {'color':colors[cl], 'linestyle':'-', 'linewidth':2.5, 'marker':'s'}))\n",
    "    cl += 1\n",
    "\n",
    "plt.legend([create_dummy_line(**l[1]) for l in legendLines],[l[0] for l in legendLines], \n",
    "           loc = 'upper center', fontsize = 12, ncols = 5, bbox_to_anchor = (0.0, -0.2), shadow = False)\n",
    "\n",
    "plt.savefig(\"CompExpAR.svg\")\n",
    "plt.show()"
   ]
  },
  {
   "cell_type": "code",
   "execution_count": null,
   "id": "9fa4fc68-8ddc-4e92-ba1c-94e1992850da",
   "metadata": {
    "tags": []
   },
   "outputs": [],
   "source": [
    "ARstress = Arh(allData[:,0], allData[:,1], allData[:,2])"
   ]
  },
  {
   "cell_type": "code",
   "execution_count": null,
   "id": "ea7c41b5-8e84-4573-b1ce-85e6e5d737a9",
   "metadata": {},
   "outputs": [],
   "source": [
    "data = np.concatenate((allData[:,0:3],ARstress.reshape((ARstress.shape[0],1))),axis=1)\n",
    "h5f = h5py.File('AR-6.h5','w')\n",
    "h5f.create_dataset('data', data = data)\n",
    "h5f.close()"
   ]
  },
  {
   "cell_type": "code",
   "execution_count": null,
   "id": "daba793a-92d1-4883-a17c-7cb7cfb9017b",
   "metadata": {
    "tags": []
   },
   "outputs": [],
   "source": [
    "EAAR = np.sum(np.abs((allData[:,3] - ARstress)/(allData[:,3])))*100/ARstress.shape[0]\n",
    "print(\"EAAR = %g\" %(EAAR) + ' %')"
   ]
  },
  {
   "cell_type": "code",
   "execution_count": null,
   "id": "5990f60f-56fb-4a53-8d10-570bf804b530",
   "metadata": {
    "tags": []
   },
   "outputs": [],
   "source": [
    "RMSE = np.sqrt(np.sum((allData[:,3] - ARstress)**2)/ARstress.shape[0])\n",
    "print('RMSE = %g' %(RMSE)+' MPa')"
   ]
  },
  {
   "cell_type": "code",
   "execution_count": null,
   "id": "960ab2e0-93cf-4842-a8f5-f45a409ba2f0",
   "metadata": {
    "tags": []
   },
   "outputs": [],
   "source": [
    "import math\n",
    "\n",
    "def truncate(number, decimals=0):\n",
    "    \"\"\"\n",
    "    Returns a value truncated to a specific number of decimal places.\n",
    "    \"\"\"\n",
    "    if not isinstance(decimals, int):\n",
    "        raise TypeError(\"decimal places must be an integer.\")\n",
    "    elif decimals < 0:\n",
    "        raise ValueError(\"decimal places has to be 0 or more.\")\n",
    "    elif decimals == 0:\n",
    "        return math.trunc(number)\n",
    "\n",
    "    factor = 10.0 ** decimals\n",
    "    return math.trunc(number * factor) / factor\n",
    "\n",
    "l1=list(fitAlpha.params.values())\n",
    "l2=list(fitQ.params.values())\n",
    "l3=list(fitLna.params.values())\n",
    "l4=list(fitN.params.values())\n",
    "for i in range(np.max([len(l1),len(l2),len(l3),len(l4)])):\n",
    "    s = ''\n",
    "    if i < (len(l1)):\n",
    "        s += l1[i].name+'='+ str(truncate(l1[i].value,4))\n",
    "    s+=' & '\n",
    "    if i < (len(l2)):\n",
    "        s += l2[i].name+'='+ str(truncate(l2[i].value/1e6,4))\n",
    "    s+=' & '\n",
    "    if i < (len(l3)):\n",
    "        s += l3[i].name+'='+ str(truncate(l3[i].value,4))\n",
    "    s+=' & '\n",
    "    if i < (len(l4)):\n",
    "        s += l4[i].name+'='+ str(truncate(l4[i].value,4))\n",
    "    s+='\\\\\\\\'    \n",
    "    print(s)"
   ]
  },
  {
   "cell_type": "code",
   "execution_count": null,
   "id": "f93e2762-a084-4b3f-9b10-2a2cd1ce5ed8",
   "metadata": {},
   "outputs": [],
   "source": []
  }
 ],
 "metadata": {
  "kernelspec": {
   "display_name": "Python 3 (ipykernel)",
   "language": "python",
   "name": "python3"
  },
  "language_info": {
   "codemirror_mode": {
    "name": "ipython",
    "version": 3
   },
   "file_extension": ".py",
   "mimetype": "text/x-python",
   "name": "python",
   "nbconvert_exporter": "python",
   "pygments_lexer": "ipython3",
   "version": "3.10.6"
  }
 },
 "nbformat": 4,
 "nbformat_minor": 5
}
