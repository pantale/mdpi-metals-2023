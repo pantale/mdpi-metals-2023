{
 "cells": [
  {
   "cell_type": "markdown",
   "id": "4a200ea4-593d-402e-ab3a-de65724edff3",
   "metadata": {},
   "source": [
    "# Plot 6"
   ]
  },
  {
   "cell_type": "code",
   "execution_count": null,
   "id": "bbdbe72b-66f3-4ce3-b148-e304db0d65b5",
   "metadata": {
    "tags": []
   },
   "outputs": [],
   "source": [
    "import numpy as np\n",
    "import matplotlib.pyplot as plt\n",
    "plt.style.use(\"mime\")\n",
    "import h5py\n",
    "from scipy.optimize import curve_fit\n",
    "import lmfit\n",
    "import os\n",
    "\n",
    "colors = ['#bb0000', '#00bb00', \"#0000bb\", '#bbbb00', '#bb00bb', \"#00bbbb\", '#bbbbbb', '#770000', '#007700', \"#000077\", '#777700', '#770077', \"#007777\", '#777777', '#440000', '#004400', \"#000044\", '#444400', '#440044', \"#0044444\", '#444444','#000000']"
   ]
  },
  {
   "cell_type": "code",
   "execution_count": null,
   "id": "af68263b-3f50-4165-a080-93d3bf725b7c",
   "metadata": {
    "tags": []
   },
   "outputs": [],
   "source": [
    "baseSize = (8, 6)  # Base size of a subplot\n",
    "\n",
    "def sbPlot(n):\n",
    "    if (n == 1): return 1, 1\n",
    "    if (n <= 2): return 1, 2\n",
    "    if (n <= 4): return 2, 2\n",
    "    if (n <= 6): return 3, 2\n",
    "    if (n <= 9): return 3, 3\n",
    "    if (n <= 12): return 4, 3\n",
    "    return 0, 0\n",
    "\n",
    "def sbPlotSize(n):\n",
    "    x, y = sbPlot(n)\n",
    "    return baseSize[0] * y, baseSize[1] * x"
   ]
  },
  {
   "cell_type": "code",
   "execution_count": null,
   "id": "198c0372-b038-480d-a09e-c46b56961d3c",
   "metadata": {
    "tags": []
   },
   "outputs": [],
   "source": [
    "h5f = h5py.File('GleebleData.h5','r')\n",
    "allData = h5f['all'][:]\n",
    "shortData = h5f['short'][:]\n",
    "h5f.close()"
   ]
  },
  {
   "cell_type": "code",
   "execution_count": null,
   "id": "02c662c3-67a2-45a6-9faa-4f6b55925d63",
   "metadata": {
    "tags": []
   },
   "outputs": [],
   "source": [
    "allData.shape, shortData.shape"
   ]
  },
  {
   "cell_type": "markdown",
   "id": "a7e15b5e-ce7b-4a8b-8976-5ecff3badc9b",
   "metadata": {},
   "source": [
    "Remove first point of each curve, where $\\varepsilon^p=0$"
   ]
  },
  {
   "cell_type": "code",
   "execution_count": null,
   "id": "db42b9ee-29f0-48cd-92c2-d61c8088ca5c",
   "metadata": {
    "tags": []
   },
   "outputs": [],
   "source": [
    "allData = allData[allData[:,0] != 0]\n",
    "shortData = shortData[shortData[:,0]!=0]"
   ]
  },
  {
   "cell_type": "code",
   "execution_count": null,
   "id": "bf747067-5b3c-4312-ad7b-af3965c14a54",
   "metadata": {
    "tags": []
   },
   "outputs": [],
   "source": [
    "strains = np.unique(shortData[:,0])\n",
    "allStrains = np.unique(shortData[:,0])\n",
    "epsps = np.unique(shortData[:,1])\n",
    "temperatures = np.unique(shortData[:,2])\n",
    "nEps = len(strains)\n",
    "nEpsp = len(epsps)\n",
    "nTemp = len(temperatures)\n",
    "#strains, epsps, temperatures, nEps, nEpsp, nTemp"
   ]
  },
  {
   "cell_type": "code",
   "execution_count": null,
   "id": "f21b0f8c-5b46-4b50-9d6b-39f71a004b96",
   "metadata": {
    "tags": []
   },
   "outputs": [],
   "source": [
    "loadModels = ['PTM-6', 'JC-6', 'MZA-6', 'HS-6', 'AR-6', '3-15-7-1-sigmoid']\n",
    "dataPaths = ['PTM', 'JC', 'MZA', 'HS', 'AR', 'ANN/ANN-6']\n",
    "mod = 1\n",
    "model = loadModels[mod]\n",
    "dataPath = dataPaths[mod]\n",
    "print(\"Model : %s/%s\"%(dataPath,model))"
   ]
  },
  {
   "cell_type": "code",
   "execution_count": null,
   "id": "82fc7f72-09ac-4256-931e-2a932ed95026",
   "metadata": {
    "tags": []
   },
   "outputs": [],
   "source": [
    "h5f = h5py.File(dataPath+'/'+model+'.h5','r')\n",
    "data = h5f['data'][:]\n",
    "h5f.close()\n",
    "data.shape"
   ]
  },
  {
   "cell_type": "code",
   "execution_count": null,
   "id": "2562a94c-b754-44bb-8e42-c353cab44217",
   "metadata": {
    "tags": []
   },
   "outputs": [],
   "source": [
    "# Plot the curves\n",
    "from matplotlib.lines import Line2D\n",
    "def create_dummy_line(**kwds):\n",
    "    return Line2D([], [], **kwds)\n",
    "\n",
    "plt.figure(figsize = sbPlotSize(nEpsp))\n",
    "plt.rc('text', usetex = True)\n",
    "idx = 1\n",
    "plt.subplots_adjust(hspace = 0.3)\n",
    "for epsp in list(epsps):\n",
    "    xs, ys = sbPlot(nEpsp)\n",
    "    plt.subplot(xs, ys, idx)\n",
    "    sbdata = shortData[shortData[:,1]==epsp]\n",
    "    sndata = data[data[:,1]==epsp]\n",
    "    cl =0\n",
    "    for temp in list(temperatures):\n",
    "        sbdata1 = sbdata[sbdata[:,2]==temp]\n",
    "        sndata1 = sndata[sndata[:,2]==temp]\n",
    "        plt.plot(sbdata1[:,0], sbdata1[:,3], colors[cl], marker = 's', markersize = 5, linestyle = 'none')\n",
    "        plt.plot(sndata1[:,0], sndata1[:,3], colors[cl], linewidth = 2.5)\n",
    "        plt.rcParams['xtick.labelsize'] = 16\n",
    "        plt.rcParams['ytick.labelsize'] = 16\n",
    "        cl +=1\n",
    "    plt.xlim(0, 0.7)\n",
    "    plt.ylim(bottom=0)\n",
    "    plt.xlabel(r'strain $\\varepsilon$', fontsize = 16) # Labels the x axis\n",
    "    plt.ylabel(r'flow stress $\\sigma^y$ (MPa)', fontsize = 16) # Labels the y axis\n",
    "    plt.title(r'strain rate $\\dot{\\varepsilon} = ' + str(epsp) + '$ s$^{-1}$', fontsize = 16) # Self explicit command\n",
    "    idx += 1\n",
    "    \n",
    "legendLines = []\n",
    "cl = 0\n",
    "for temp in list(temperatures):\n",
    "    legendLines.append((r'$T=$' + str(int(temp)) + r'$^{\\circ}$C', {'color':colors[cl], 'linestyle':'-', 'linewidth':2.5, 'marker':'s'}))\n",
    "    cl += 1\n",
    "\n",
    "plt.legend([create_dummy_line(**l[1]) for l in legendLines],[l[0] for l in legendLines], \n",
    "           loc = 'upper center', fontsize = 12, ncols = 5, bbox_to_anchor = (0.0, -0.2), shadow = False)\n",
    "\n",
    "plt.savefig(\"CompExp-\"+model+\".svg\")\n",
    "plt.show()"
   ]
  },
  {
   "cell_type": "code",
   "execution_count": null,
   "id": "318b7dc4-aa3b-4688-ba05-71a624545c75",
   "metadata": {
    "tags": []
   },
   "outputs": [],
   "source": [
    "ref = allData[allData[:,0] != 0]\n",
    "EAAR = np.sum(np.abs((ref[:,3] - data[:,3])/(ref[:,3])))*100/ref.shape[0]\n",
    "RMSE = np.sqrt(np.sum((ref[:,3] - data[:,3])**2)/ref.shape[0])\n",
    "print('RMSE = %g' %(RMSE)+' MPa')\n",
    "print(\"EAAR = %g\" %(EAAR) + ' %')"
   ]
  },
  {
   "cell_type": "code",
   "execution_count": null,
   "id": "b5fc20c9-948b-4fb2-922a-e8232f2278d5",
   "metadata": {
    "tags": []
   },
   "outputs": [],
   "source": [
    "# Plot the curves\n",
    "stp = 20\n",
    "m = np.min([allData[::stp,3].min(), data[::stp,3].min()])\n",
    "M = np.max([allData[::stp,3].max(), data[::stp,3].max()])\n",
    "plt.figure(figsize = (11.69, 8.27))\n",
    "plt.rc('text', usetex = True)\n",
    "plt.plot(allData[::stp,3], data[::stp,3], label= r'$Data\\ points$', marker='o', linestyle = 'none', color='blue')\n",
    "plt.plot([m,M],[m,M], linewidth = 2, color='red')\n",
    "#plt.legend(loc = 'upper left',fancybox = True, numpoints = 1, fontsize = 10)\n",
    "plt.xlabel(r'Experimental flow stress $\\sigma^e$', fontsize = 16) # Labels the x axis\n",
    "plt.ylabel(r'Predicted flow stress $\\sigma^y$', fontsize = 16) # Labels the y axis\n",
    "plt.title(r'Correlation of the '+model+' model', fontsize = 16) # Self explicit command\n",
    "plt.savefig(\"CorrExp-\"+model+\".svg\")\n",
    "plt.show()"
   ]
  },
  {
   "cell_type": "code",
   "execution_count": null,
   "id": "d4787c94-4fc6-4d1b-aa95-7fcb626ccd37",
   "metadata": {},
   "outputs": [],
   "source": []
  }
 ],
 "metadata": {
  "kernelspec": {
   "display_name": "Python 3 (ipykernel)",
   "language": "python",
   "name": "python3"
  },
  "language_info": {
   "codemirror_mode": {
    "name": "ipython",
    "version": 3
   },
   "file_extension": ".py",
   "mimetype": "text/x-python",
   "name": "python",
   "nbconvert_exporter": "python",
   "pygments_lexer": "ipython3",
   "version": "3.10.6"
  }
 },
 "nbformat": 4,
 "nbformat_minor": 5
}
