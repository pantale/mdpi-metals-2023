{
 "cells": [
  {
   "cell_type": "markdown",
   "id": "4a200ea4-593d-402e-ab3a-de65724edff3",
   "metadata": {},
   "source": [
    "# Raw data analysis"
   ]
  },
  {
   "cell_type": "code",
   "execution_count": null,
   "id": "bbdbe72b-66f3-4ce3-b148-e304db0d65b5",
   "metadata": {
    "tags": []
   },
   "outputs": [],
   "source": [
    "import numpy as np\n",
    "import matplotlib.pyplot as plt\n",
    "plt.style.use(\"mime\")\n",
    "import pandas as pd\n",
    "import h5py\n",
    "\n",
    "colors = ['#bb0000', '#00bb00', \"#0000bb\", '#bbbb00', '#bb00bb', \"#00bbbb\", '#bbbbbb', '#770000', '#007700', \"#000077\", '#777700', '#770077', \"#007777\", '#777777', '#440000', '#004400', \"#000044\", '#444400', '#440044', \"#0044444\", '#444444','#000000']"
   ]
  },
  {
   "cell_type": "code",
   "execution_count": null,
   "id": "af68263b-3f50-4165-a080-93d3bf725b7c",
   "metadata": {
    "tags": []
   },
   "outputs": [],
   "source": [
    "baseSize = (8, 6)  # Base size of a subplot\n",
    "\n",
    "def sbPlot(n):\n",
    "    if (n == 1): return 1, 1\n",
    "    if (n <= 2): return 1, 2\n",
    "    if (n <= 4): return 2, 2\n",
    "    if (n <= 6): return 3, 2\n",
    "    if (n <= 9): return 3, 3\n",
    "    if (n <= 12): return 4, 3\n",
    "    return 0, 0\n",
    "\n",
    "def sbPlotSize(n):\n",
    "    x, y = sbPlot(n)\n",
    "    return baseSize[0] * y, baseSize[1] * x"
   ]
  },
  {
   "cell_type": "code",
   "execution_count": null,
   "id": "198c0372-b038-480d-a09e-c46b56961d3c",
   "metadata": {
    "tags": []
   },
   "outputs": [],
   "source": [
    "h5f = h5py.File('../GleebleData.h5','r')\n",
    "allData = h5f['all'][:]\n",
    "shortData = h5f['short'][:]\n",
    "h5f.close()"
   ]
  },
  {
   "cell_type": "code",
   "execution_count": null,
   "id": "02c662c3-67a2-45a6-9faa-4f6b55925d63",
   "metadata": {
    "tags": []
   },
   "outputs": [],
   "source": [
    "allData.shape, shortData.shape"
   ]
  },
  {
   "cell_type": "code",
   "execution_count": null,
   "id": "48e21380-ff65-4309-8a8b-dc1855ad467c",
   "metadata": {
    "tags": []
   },
   "outputs": [],
   "source": [
    "strains = np.unique(shortData[:,0])\n",
    "epsps = np.unique(shortData[:,1])\n",
    "temperatures = np.unique(shortData[:,2])"
   ]
  },
  {
   "cell_type": "code",
   "execution_count": null,
   "id": "1b2e6684-7d84-4626-923f-1db764567b18",
   "metadata": {
    "tags": []
   },
   "outputs": [],
   "source": [
    "nEps = len(strains)\n",
    "nEpsp = len(epsps)\n",
    "nTemp = len(temperatures)\n",
    "strains, epsps, temperatures, nEps, nEpsp, nTemp"
   ]
  },
  {
   "cell_type": "code",
   "execution_count": null,
   "id": "2562a94c-b754-44bb-8e42-c353cab44217",
   "metadata": {
    "tags": []
   },
   "outputs": [],
   "source": [
    "# Plot the curves\n",
    "from matplotlib.lines import Line2D\n",
    "def create_dummy_line(**kwds):\n",
    "    return Line2D([], [], **kwds)\n",
    "\n",
    "plt.figure(figsize = sbPlotSize(nEpsp))\n",
    "plt.rc('text', usetex = True)\n",
    "idx = 1\n",
    "plt.subplots_adjust(hspace = 0.3)\n",
    "for epsp in list(epsps):\n",
    "    xs, ys = sbPlot(nEpsp)\n",
    "    plt.subplot(xs, ys, idx)\n",
    "    sbdata = shortData[shortData[:,1]==epsp]\n",
    "    cl =0\n",
    "    for temp in list(temperatures):\n",
    "        sbdata1 = sbdata[sbdata[:,2]==temp]\n",
    "        plt.plot(sbdata1[:,0], sbdata1[:,3], colors[cl], marker = 's', markersize = 5, linewidth = 2.5, linestyle = '-')\n",
    "        plt.rcParams['xtick.labelsize'] = 16\n",
    "        plt.rcParams['ytick.labelsize'] = 16\n",
    "        cl +=1\n",
    "    plt.xlim(0, 0.7)\n",
    "    plt.ylim(bottom=0)\n",
    "    plt.xlabel(r'strain $\\varepsilon$', fontsize = 16) # Labels the x axis\n",
    "    plt.ylabel(r'flow stress $\\sigma^y$ (MPa)', fontsize = 16) # Labels the y axis\n",
    "    plt.title(r'strain rate $\\dot{\\varepsilon} = ' + str(epsp) + '$ s$^{-1}$', fontsize = 16) # Self explicit command\n",
    "    idx += 1\n",
    "    \n",
    "legendLines = []\n",
    "cl = 0\n",
    "for temp in list(temperatures):\n",
    "    legendLines.append((r'$T=$' + str(int(temp)) + r'$^{\\circ}$C', {'color':colors[cl], 'linestyle':'-', 'linewidth':2.5, 'marker':'s'}))\n",
    "    cl += 1\n",
    "\n",
    "plt.legend([create_dummy_line(**l[1]) for l in legendLines],[l[0] for l in legendLines], \n",
    "           loc = 'upper center', fontsize = 12, ncols = 5, bbox_to_anchor = (0.0, -0.2), shadow = False)\n",
    "\n",
    "plt.savefig(\"RawData.svg\")\n",
    "plt.show()"
   ]
  }
 ],
 "metadata": {
  "kernelspec": {
   "display_name": "Python 3 (ipykernel)",
   "language": "python",
   "name": "python3"
  },
  "language_info": {
   "codemirror_mode": {
    "name": "ipython",
    "version": 3
   },
   "file_extension": ".py",
   "mimetype": "text/x-python",
   "name": "python",
   "nbconvert_exporter": "python",
   "pygments_lexer": "ipython3",
   "version": "3.9.13"
  }
 },
 "nbformat": 4,
 "nbformat_minor": 5
}
