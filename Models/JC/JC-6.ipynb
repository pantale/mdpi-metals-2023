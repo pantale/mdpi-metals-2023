{
 "cells": [
  {
   "cell_type": "markdown",
   "id": "4a200ea4-593d-402e-ab3a-de65724edff3",
   "metadata": {},
   "source": [
    "# Johnson-Cook with 6 strain rates"
   ]
  },
  {
   "cell_type": "code",
   "execution_count": null,
   "id": "bbdbe72b-66f3-4ce3-b148-e304db0d65b5",
   "metadata": {
    "tags": []
   },
   "outputs": [],
   "source": [
    "import numpy as np\n",
    "import matplotlib.pyplot as plt\n",
    "plt.style.use(\"mime\")\n",
    "import pandas as pd\n",
    "import h5py\n",
    "from scipy.optimize import curve_fit\n",
    "import lmfit\n",
    "\n",
    "colors = ['#bb0000', '#00bb00', \"#0000bb\", '#bbbb00', '#bb00bb', \"#00bbbb\", '#bbbbbb', '#770000', '#007700', \"#000077\", '#777700', '#770077', \"#007777\", '#777777', '#440000', '#004400', \"#000044\", '#444400', '#440044', \"#0044444\", '#444444','#000000']"
   ]
  },
  {
   "cell_type": "code",
   "execution_count": null,
   "id": "af68263b-3f50-4165-a080-93d3bf725b7c",
   "metadata": {
    "tags": []
   },
   "outputs": [],
   "source": [
    "baseSize = (8, 6)  # Base size of a subplot\n",
    "\n",
    "def sbPlot(n):\n",
    "    if (n == 1): return 1, 1\n",
    "    if (n <= 2): return 1, 2\n",
    "    if (n <= 4): return 2, 2\n",
    "    if (n <= 6): return 3, 2\n",
    "    if (n <= 9): return 3, 3\n",
    "    if (n <= 12): return 4, 3\n",
    "    return 0, 0\n",
    "\n",
    "def sbPlotSize(n):\n",
    "    x, y = sbPlot(n)\n",
    "    return baseSize[0] * y, baseSize[1] * x"
   ]
  },
  {
   "cell_type": "code",
   "execution_count": null,
   "id": "198c0372-b038-480d-a09e-c46b56961d3c",
   "metadata": {
    "tags": []
   },
   "outputs": [],
   "source": [
    "h5f = h5py.File('../GleebleData.h5','r')\n",
    "allData = h5f['all'][:]\n",
    "shortData = h5f['short'][:]\n",
    "h5f.close()"
   ]
  },
  {
   "cell_type": "code",
   "execution_count": null,
   "id": "02c662c3-67a2-45a6-9faa-4f6b55925d63",
   "metadata": {
    "tags": []
   },
   "outputs": [],
   "source": [
    "allData.shape, shortData.shape"
   ]
  },
  {
   "cell_type": "markdown",
   "id": "a7e15b5e-ce7b-4a8b-8976-5ecff3badc9b",
   "metadata": {},
   "source": [
    "Remove first point of each curve, where $\\varepsilon^p=0$"
   ]
  },
  {
   "cell_type": "code",
   "execution_count": null,
   "id": "db42b9ee-29f0-48cd-92c2-d61c8088ca5c",
   "metadata": {
    "tags": []
   },
   "outputs": [],
   "source": [
    "identData = allData[allData[:,0] != 0]\n",
    "#identData = shortData[shortData[:,0]!=0]"
   ]
  },
  {
   "cell_type": "code",
   "execution_count": null,
   "id": "48e21380-ff65-4309-8a8b-dc1855ad467c",
   "metadata": {
    "tags": []
   },
   "outputs": [],
   "source": [
    "strains = np.unique(identData[:,0])\n",
    "allStrains = np.unique(allData[:,0])\n",
    "epsps = np.unique(identData[:,1])\n",
    "temperatures = np.unique(identData[:,2])\n",
    "nEps = len(strains)\n",
    "nEpsp = len(epsps)\n",
    "nTemp = len(temperatures)\n",
    "strains, epsps, temperatures, nEps, nEpsp, nTemp"
   ]
  },
  {
   "cell_type": "markdown",
   "id": "e8d22c82-7124-4579-a4a6-dabf8b931a24",
   "metadata": {},
   "source": [
    "# Identification of the Johnson-Cook parameters\n",
    "$\\sigma = (A + B\\varepsilon^n)\\left(1 + C\\ln\\left(\\frac{\\dot{\\varepsilon^p}}{\\dot{\\varepsilon^p}}\\right)\\right)\\left(1-\\left(\\frac{T-T_0}{T_m - T_0}\\right)^m\\right)$"
   ]
  },
  {
   "cell_type": "code",
   "execution_count": null,
   "id": "a0d8d069-e7b1-40ca-8ae0-d9a5bf241530",
   "metadata": {
    "tags": []
   },
   "outputs": [],
   "source": [
    "T0 = temperatures[0]\n",
    "epsp0 = epsps[0]\n",
    "Tm = 1460"
   ]
  },
  {
   "cell_type": "markdown",
   "id": "c2bcdc8d-e30c-4f9e-81b4-13d0e86e55d2",
   "metadata": {},
   "source": [
    "A is the initial yield at reference strain rate and temperature"
   ]
  },
  {
   "cell_type": "code",
   "execution_count": null,
   "id": "7bc3012e-332d-40fc-a73f-5cd6c9b9ae4e",
   "metadata": {
    "tags": []
   },
   "outputs": [],
   "source": [
    "A = allData[(allData[:,1]==epsp0) & (allData[:,2]==T0)][0,3]\n",
    "print(\"A=%g\" %(A))"
   ]
  },
  {
   "cell_type": "markdown",
   "id": "5c768868-b741-4c14-8cd9-7f4babdf6ecb",
   "metadata": {},
   "source": [
    "Extract the reference curve data"
   ]
  },
  {
   "cell_type": "code",
   "execution_count": null,
   "id": "4dc2db2b-8b7e-4e70-a343-869e317d28a6",
   "metadata": {
    "tags": []
   },
   "outputs": [],
   "source": [
    "Sig = identData[(identData[:,1]==epsp0) & (identData[:,2]==T0)]\n",
    "params = np.polyfit(np.log(Sig[:,0]), np.log(Sig[:,3]-A), 1)\n",
    "n, lnB = params\n",
    "B = np.exp(lnB)\n",
    "print(\"lnB=%g, B=%g, n=%g\" %(lnB, B, n))"
   ]
  },
  {
   "cell_type": "markdown",
   "id": "cea92dce-62c6-40ba-81ba-fb000ba61f01",
   "metadata": {},
   "source": [
    "Extract data at reference temperature"
   ]
  },
  {
   "cell_type": "code",
   "execution_count": null,
   "id": "4760a91e-997d-460e-8940-76c1c6dfcd0a",
   "metadata": {
    "tags": []
   },
   "outputs": [],
   "source": [
    "sigT0 = identData[identData[:,2]==T0]\n",
    "sigT0[:,3] = ((sigT0[:,3])/(A + B*(sigT0[:,0])**n)) - 1"
   ]
  },
  {
   "cell_type": "code",
   "execution_count": null,
   "id": "8958a3c3-8929-4f3e-bf41-e7dc16d5618b",
   "metadata": {
    "tags": []
   },
   "outputs": [],
   "source": [
    "def specialFunction(x,s):\n",
    "    return s*x\n",
    "\n",
    "S1 = []\n",
    "cl=0\n",
    "for epsj in list(strains):\n",
    "    sbdata = sigT0[sigT0[:,0]==epsj]\n",
    "    popt, pcov = curve_fit(specialFunction, np.log(sbdata[:,1]/epsp0), sbdata[:,3], bounds=(-np.inf, [np.inf]))\n",
    "    s = popt\n",
    "    S1.append(s)\n",
    "    cl +=1\n",
    "C  = np.mean(S1)\n",
    "print(\"C=%g\" %(C))"
   ]
  },
  {
   "cell_type": "code",
   "execution_count": null,
   "id": "602b3b31-7ec2-4180-af99-20ffcb5dde75",
   "metadata": {
    "tags": []
   },
   "outputs": [],
   "source": [
    "sigEpsp0 = identData[(identData[:,1]==epsp0) & (identData[:,2]!=T0)]\n",
    "sigEpsp0[:,3] = 1 - (sigEpsp0[:,3]/((A + B*(sigEpsp0[:,0])**n)))"
   ]
  },
  {
   "cell_type": "code",
   "execution_count": null,
   "id": "4263aef4-47dc-4a04-84b0-7c4d345e30d2",
   "metadata": {
    "tags": []
   },
   "outputs": [],
   "source": [
    "J1 = []\n",
    "cl=0\n",
    "for epsj in list(strains):\n",
    "    sbdata = sigEpsp0[sigEpsp0[:,0]==epsj]\n",
    "    #print(sbdata)\n",
    "    popt, pcov = curve_fit(specialFunction, np.log((sbdata[:,2]-T0)/(Tm-T0)), np.log(sbdata[:,3]), bounds=(-np.inf, [np.inf]))\n",
    "    m1 = popt\n",
    "    J1.append(m1)\n",
    "    cl +=1\n",
    "m  = np.mean(J1)\n",
    "print(\"m=%g\" %(m))"
   ]
  },
  {
   "cell_type": "code",
   "execution_count": null,
   "id": "6ba1cd6a-1c6c-4d2e-9b5b-eb00b09f30a8",
   "metadata": {
    "tags": []
   },
   "outputs": [],
   "source": [
    "A,B,C,n,m"
   ]
  },
  {
   "cell_type": "code",
   "execution_count": null,
   "id": "b869c46f-68cf-4cdb-9c81-366c23ff1bf0",
   "metadata": {
    "tags": []
   },
   "outputs": [],
   "source": [
    "def JCconstitutiveLaw(eps, epsp, T):\n",
    "    return (A + B * eps**n) * (1 + C * np.log(epsp / epsp0)) * (1 - ((T - T0) / (Tm - T0))**m)"
   ]
  },
  {
   "cell_type": "code",
   "execution_count": null,
   "id": "2562a94c-b754-44bb-8e42-c353cab44217",
   "metadata": {
    "tags": []
   },
   "outputs": [],
   "source": [
    "# Plot the curves\n",
    "from matplotlib.lines import Line2D\n",
    "def create_dummy_line(**kwds):\n",
    "    return Line2D([], [], **kwds)\n",
    "\n",
    "plt.figure(figsize = sbPlotSize(nEpsp))\n",
    "plt.rc('text', usetex = True)\n",
    "idx = 1\n",
    "plt.subplots_adjust(hspace = 0.3)\n",
    "for epsp in list(epsps):\n",
    "    xs, ys = sbPlot(nEpsp)\n",
    "    plt.subplot(xs, ys, idx)\n",
    "    sbdata = shortData[shortData[:,1]==epsp]\n",
    "    cl =0\n",
    "    for temp in list(temperatures):\n",
    "        sbdata1 = sbdata[sbdata[:,2]==temp]\n",
    "        plt.plot(sbdata1[:,0], sbdata1[:,3], colors[cl], marker = 's', markersize = 5, linestyle = 'none')\n",
    "        plt.plot(strains, JCconstitutiveLaw(strains, epsp, temp), colors[cl], linewidth = 2.5)\n",
    "        plt.rcParams['xtick.labelsize'] = 16\n",
    "        plt.rcParams['ytick.labelsize'] = 16\n",
    "        cl +=1\n",
    "    plt.xlim(0, 0.7)\n",
    "    plt.ylim(bottom=0)\n",
    "    plt.xlabel(r'strain $\\varepsilon$', fontsize = 16) # Labels the x axis\n",
    "    plt.ylabel(r'flow stress $\\sigma^y$ (MPa)', fontsize = 16) # Labels the y axis\n",
    "    plt.title(r'strain rate $\\dot{\\varepsilon} = ' + str(epsp) + '$ s$^{-1}$', fontsize = 16) # Self explicit command\n",
    "    idx += 1\n",
    "    \n",
    "legendLines = []\n",
    "cl = 0\n",
    "for temp in list(temperatures):\n",
    "    legendLines.append((r'$T=$' + str(int(temp)) + r'$^{\\circ}$C', {'color':colors[cl], 'linestyle':'-', 'linewidth':2.5, 'marker':'s'}))\n",
    "    cl += 1\n",
    "\n",
    "plt.legend([create_dummy_line(**l[1]) for l in legendLines],[l[0] for l in legendLines], \n",
    "           loc = 'upper center', fontsize = 12, ncols = 5, bbox_to_anchor = (0.0, -0.2), shadow = False)\n",
    "\n",
    "plt.savefig(\"CompExpJC.svg\")\n",
    "plt.show()"
   ]
  },
  {
   "cell_type": "code",
   "execution_count": null,
   "id": "9fa4fc68-8ddc-4e92-ba1c-94e1992850da",
   "metadata": {
    "tags": []
   },
   "outputs": [],
   "source": [
    "JCstress = JCconstitutiveLaw(identData[:,0], identData[:,1], identData[:,2])"
   ]
  },
  {
   "cell_type": "code",
   "execution_count": null,
   "id": "daba793a-92d1-4883-a17c-7cb7cfb9017b",
   "metadata": {
    "tags": []
   },
   "outputs": [],
   "source": [
    "EAAR = np.sum(np.abs((identData[:,3] - JCstress)/(identData[:,3])))*100/JCstress.shape[0]\n",
    "print(\"EAAR = %g\" %(EAAR) + ' %')"
   ]
  },
  {
   "cell_type": "code",
   "execution_count": null,
   "id": "5990f60f-56fb-4a53-8d10-570bf804b530",
   "metadata": {
    "tags": []
   },
   "outputs": [],
   "source": [
    "RMSE = np.sqrt(np.sum((identData[:,3] - JCstress)**2)/JCstress.shape[0])\n",
    "print('RMSE = %g' %(RMSE)+' MPa')"
   ]
  },
  {
   "cell_type": "code",
   "execution_count": null,
   "id": "c240411d-4636-4f88-b8cd-a4deedaf3bab",
   "metadata": {},
   "outputs": [],
   "source": []
  }
 ],
 "metadata": {
  "kernelspec": {
   "display_name": "Python 3 (ipykernel)",
   "language": "python",
   "name": "python3"
  },
  "language_info": {
   "codemirror_mode": {
    "name": "ipython",
    "version": 3
   },
   "file_extension": ".py",
   "mimetype": "text/x-python",
   "name": "python",
   "nbconvert_exporter": "python",
   "pygments_lexer": "ipython3",
   "version": "3.9.13"
  }
 },
 "nbformat": 4,
 "nbformat_minor": 5
}
