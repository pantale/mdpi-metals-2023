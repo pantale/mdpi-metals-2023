{
 "cells": [
  {
   "cell_type": "markdown",
   "id": "4a200ea4-593d-402e-ab3a-de65724edff3",
   "metadata": {},
   "source": [
    "# PTM with 6 strain rates"
   ]
  },
  {
   "cell_type": "code",
   "execution_count": null,
   "id": "bbdbe72b-66f3-4ce3-b148-e304db0d65b5",
   "metadata": {
    "tags": []
   },
   "outputs": [],
   "source": [
    "import numpy as np\n",
    "import matplotlib.pyplot as plt\n",
    "plt.style.use(\"mime\")\n",
    "import h5py\n",
    "from scipy.optimize import curve_fit\n",
    "import lmfit\n",
    "\n",
    "colors = ['#bb0000', '#00bb00', \"#0000bb\", '#bbbb00', '#bb00bb', \"#00bbbb\", '#bbbbbb', '#770000', '#007700', \"#000077\", '#777700', '#770077', \"#007777\", '#777777', '#440000', '#004400', \"#000044\", '#444400', '#440044', \"#0044444\", '#444444','#000000']"
   ]
  },
  {
   "cell_type": "code",
   "execution_count": null,
   "id": "af68263b-3f50-4165-a080-93d3bf725b7c",
   "metadata": {
    "tags": []
   },
   "outputs": [],
   "source": [
    "baseSize = (8, 6)  # Base size of a subplot\n",
    "\n",
    "def sbPlot(n):\n",
    "    if (n == 1): return 1, 1\n",
    "    if (n <= 2): return 1, 2\n",
    "    if (n <= 4): return 2, 2\n",
    "    if (n <= 6): return 3, 2\n",
    "    if (n <= 9): return 3, 3\n",
    "    if (n <= 12): return 4, 3\n",
    "    return 0, 0\n",
    "\n",
    "def sbPlotSize(n):\n",
    "    x, y = sbPlot(n)\n",
    "    return baseSize[0] * y, baseSize[1] * x"
   ]
  },
  {
   "cell_type": "code",
   "execution_count": null,
   "id": "198c0372-b038-480d-a09e-c46b56961d3c",
   "metadata": {
    "tags": []
   },
   "outputs": [],
   "source": [
    "h5f = h5py.File('../GleebleData.h5','r')\n",
    "allData = h5f['all'][:]\n",
    "shortData = h5f['short'][:]\n",
    "h5f.close()"
   ]
  },
  {
   "cell_type": "code",
   "execution_count": null,
   "id": "02c662c3-67a2-45a6-9faa-4f6b55925d63",
   "metadata": {
    "tags": []
   },
   "outputs": [],
   "source": [
    "allData.shape, shortData.shape"
   ]
  },
  {
   "cell_type": "markdown",
   "id": "a7e15b5e-ce7b-4a8b-8976-5ecff3badc9b",
   "metadata": {},
   "source": [
    "Remove first point of each curve, where $\\varepsilon^p=0$"
   ]
  },
  {
   "cell_type": "code",
   "execution_count": null,
   "id": "db42b9ee-29f0-48cd-92c2-d61c8088ca5c",
   "metadata": {
    "tags": []
   },
   "outputs": [],
   "source": [
    "allData = allData[allData[:,0] != 0]\n",
    "shortData = shortData[shortData[:,0]!=0]\n",
    "identData = shortData"
   ]
  },
  {
   "cell_type": "code",
   "execution_count": null,
   "id": "48e21380-ff65-4309-8a8b-dc1855ad467c",
   "metadata": {
    "tags": []
   },
   "outputs": [],
   "source": [
    "strains = np.unique(identData[:,0])\n",
    "allStrains = np.unique(allData[:,0])\n",
    "epsps = np.unique(identData[:,1])\n",
    "temperatures = np.unique(identData[:,2])\n",
    "nEps = len(strains)\n",
    "nEpsp = len(epsps)\n",
    "nTemp = len(temperatures)\n",
    "#strains, epsps, temperatures, nEps, nEpsp, nTemp"
   ]
  },
  {
   "cell_type": "markdown",
   "id": "e8d22c82-7124-4579-a4a6-dabf8b931a24",
   "metadata": {},
   "source": [
    "# Identification of the PTM parameters\n",
    "$$\\sigma^y(\\varepsilon^p,\\dot\\varepsilon,T) = \\left(\\sum_{i=0}^{q}{A_i\\varepsilon^{p^i}}\\right) \\exp\\left[\\left(\\sum_{j=0}^{r}{B_j\\varepsilon^{p^j}}\\right)\\left(T-T_0\\right) + \\left(\\sum_{k=0}^{s}\\left(\\sum_{l=0}^{t}{C_k^l\\varepsilon^{p^l}} \\right)\\left(T-T_0\\right)^k \\right)\\ln\\left( \\frac{\\dot\\varepsilon}{\\dot{\\varepsilon}_0}\\right)\\right]$$"
   ]
  },
  {
   "cell_type": "code",
   "execution_count": null,
   "id": "a0d8d069-e7b1-40ca-8ae0-d9a5bf241530",
   "metadata": {
    "tags": []
   },
   "outputs": [],
   "source": [
    "T0 = temperatures[0]\n",
    "epsp0 = epsps[0]\n",
    "Tm = 1460\n",
    "q=5\n",
    "r=5\n",
    "s=1\n",
    "t=5"
   ]
  },
  {
   "cell_type": "code",
   "execution_count": null,
   "id": "833dbb90-3225-4232-a6b1-c00daef4c08e",
   "metadata": {
    "tags": []
   },
   "outputs": [],
   "source": [
    "def genParams(params, label, order, srange=None):\n",
    "    for i in range(order+1):\n",
    "        if srange == None :\n",
    "            params.add(label+str(i), value=0)\n",
    "        else:\n",
    "            params.add(label+str(i), value=0, min=-srange, max= +srange)"
   ]
  },
  {
   "cell_type": "code",
   "execution_count": null,
   "id": "37797bf3-ae9c-4edc-93b4-d7e5b83b4516",
   "metadata": {
    "tags": []
   },
   "outputs": [],
   "source": [
    "def polyFunc(eps, opt):\n",
    "    res = 0\n",
    "    i = 0\n",
    "    for k in opt.keys():\n",
    "        res += opt[k]*eps**i\n",
    "        i += 1\n",
    "    return res"
   ]
  },
  {
   "cell_type": "code",
   "execution_count": null,
   "id": "92d65bd9-4fcd-4d65-8701-58641de859b4",
   "metadata": {
    "tags": []
   },
   "outputs": [],
   "source": [
    "refSRdata = identData[identData[:,1]==epsp0]\n",
    "comSig = np.concatenate((refSRdata, np.log(refSRdata[:,3].reshape(refSRdata[:,3].shape[0], 1))), axis=1)"
   ]
  },
  {
   "cell_type": "code",
   "execution_count": null,
   "id": "93a28875-abed-461f-a8e3-ba091b1a85cb",
   "metadata": {},
   "outputs": [],
   "source": [
    "def constitutiveLaw(T, I1, S1):\n",
    "    return I1 + S1*T "
   ]
  },
  {
   "cell_type": "code",
   "execution_count": null,
   "id": "fca2b916-fd37-47e5-8d88-82689b7e62c5",
   "metadata": {
    "tags": []
   },
   "outputs": [],
   "source": [
    "I1 = []\n",
    "S1 = []\n",
    "for i in list(strains):\n",
    "    sbdata = comSig[comSig[:,0]==i]\n",
    "    popt, pcov = curve_fit(constitutiveLaw, sbdata[:,2]-T0, sbdata[:,4])\n",
    "    I_i, S_i = popt\n",
    "    I1.append(I_i)\n",
    "    S1.append(S_i)\n",
    "J = np.exp(I1)"
   ]
  },
  {
   "cell_type": "code",
   "execution_count": null,
   "id": "57abdb89-6890-4a30-9e81-be030107a9f4",
   "metadata": {
    "tags": []
   },
   "outputs": [],
   "source": [
    "AI = lmfit.Parameters()\n",
    "genParams(AI, 'A', q)\n",
    "\n",
    "def objA(opt):\n",
    "    return J - polyFunc(strains, opt)\n",
    "\n",
    "fitA = lmfit.minimize(objA, AI)\n",
    "fitA.params"
   ]
  },
  {
   "cell_type": "code",
   "execution_count": null,
   "id": "ac1dcbde-7d5e-447d-bb4b-42c1a347a7d1",
   "metadata": {
    "tags": []
   },
   "outputs": [],
   "source": [
    "BI = lmfit.Parameters()\n",
    "genParams(BI, 'B', r)\n",
    "\n",
    "def objB(opt):\n",
    "    return S1 - polyFunc(strains, opt) \n",
    "\n",
    "fitB = lmfit.minimize(objB, BI)\n",
    "fitB.params"
   ]
  },
  {
   "cell_type": "code",
   "execution_count": null,
   "id": "3774e0d7-472b-461e-a8ba-1b0bbc2dba4a",
   "metadata": {
    "tags": []
   },
   "outputs": [],
   "source": [
    "def indenfunctionS2(t, S2):\n",
    "    return S2*t "
   ]
  },
  {
   "cell_type": "code",
   "execution_count": null,
   "id": "4f45e037-eb30-4e4c-bfb0-e801b9e1ee2b",
   "metadata": {
    "tags": []
   },
   "outputs": [],
   "source": [
    "C0 = []\n",
    "C1 = []\n",
    "for i in list(strains):\n",
    "    sbdata = identData[identData[:,0]==i]\n",
    "    S2 = []\n",
    "    for j in list(temperatures):\n",
    "        sbdata1 = sbdata[sbdata[:,2]==j]\n",
    "        sig_j = np.log(sbdata1[:,3]) - np.log(polyFunc(i, fitA.params)) - polyFunc(i, fitB.params) * (j - T0)\n",
    "        popt, pcov = curve_fit(indenfunctionS2, np.log(sbdata1[:,1]/epsp0), sig_j)\n",
    "        S_j = popt\n",
    "        S2.append(S_j)\n",
    "    S2_params = np.polyfit(temperatures-T0, S2, 1)\n",
    "    y25, y24 = S2_params\n",
    "    C0.append(y24[0])\n",
    "    C1.append(y25[0])"
   ]
  },
  {
   "cell_type": "code",
   "execution_count": null,
   "id": "5f625e8f-eb0d-4fcf-a1d7-ecd421ab782e",
   "metadata": {
    "tags": []
   },
   "outputs": [],
   "source": [
    "C0I = lmfit.Parameters()\n",
    "genParams(C0I, 'C0', t)\n",
    "\n",
    "def objC0(opt):\n",
    "    return C0 - polyFunc(strains, opt)\n",
    "\n",
    "fitC0 = lmfit.minimize(objC0, C0I)\n",
    "fitC0.params"
   ]
  },
  {
   "cell_type": "code",
   "execution_count": null,
   "id": "18a087f4-23f0-4ff0-a21b-0cbfbe4d1ac5",
   "metadata": {
    "tags": []
   },
   "outputs": [],
   "source": [
    "C1I = lmfit.Parameters()\n",
    "genParams(C1I, 'C1', t)\n",
    "\n",
    "def objC1(opt):\n",
    "    return C1 - polyFunc(strains, opt)\n",
    "\n",
    "fitC1 = lmfit.minimize(objC1, C1I)\n",
    "fitC1.params"
   ]
  },
  {
   "cell_type": "code",
   "execution_count": null,
   "id": "794b321a-ba19-4133-87e7-77e8b051827e",
   "metadata": {
    "tags": []
   },
   "outputs": [],
   "source": [
    "def PTMLaw(eps, epsp, T):\n",
    "    return polyFunc(eps, fitA.params) * np.exp(polyFunc(eps, fitB.params)*(T - T0) + (polyFunc(eps, fitC0.params) + polyFunc(eps, fitC1.params)*(T-T0)) * np.log(epsp/epsp0))"
   ]
  },
  {
   "cell_type": "code",
   "execution_count": null,
   "id": "2562a94c-b754-44bb-8e42-c353cab44217",
   "metadata": {
    "tags": []
   },
   "outputs": [],
   "source": [
    "# Plot the curves\n",
    "from matplotlib.lines import Line2D\n",
    "def create_dummy_line(**kwds):\n",
    "    return Line2D([], [], **kwds)\n",
    "\n",
    "plt.figure(figsize = sbPlotSize(nEpsp))\n",
    "plt.rc('text', usetex = True)\n",
    "idx = 1\n",
    "plt.subplots_adjust(hspace = 0.3)\n",
    "for epsp in list(epsps):\n",
    "    xs, ys = sbPlot(nEpsp)\n",
    "    plt.subplot(xs, ys, idx)\n",
    "    sbdata = shortData[shortData[:,1]==epsp]\n",
    "    cl =0\n",
    "    for temp in list(temperatures):\n",
    "        sbdata1 = sbdata[sbdata[:,2]==temp]\n",
    "        plt.plot(sbdata1[:,0], sbdata1[:,3], colors[cl], marker = 's', markersize = 5, linestyle = 'none')\n",
    "        plt.plot(strains, PTMLaw(strains, epsp, temp), colors[cl], linewidth = 2.5)\n",
    "        plt.rcParams['xtick.labelsize'] = 16\n",
    "        plt.rcParams['ytick.labelsize'] = 16\n",
    "        cl +=1\n",
    "    plt.xlim(0, 0.7)\n",
    "    plt.ylim(bottom=0)\n",
    "    plt.xlabel(r'strain $\\varepsilon$', fontsize = 16) # Labels the x axis\n",
    "    plt.ylabel(r'flow stress $\\sigma^y$ (MPa)', fontsize = 16) # Labels the y axis\n",
    "    plt.title(r'strain rate $\\dot{\\varepsilon} = ' + str(epsp) + '$ s$^{-1}$', fontsize = 16) # Self explicit command\n",
    "    idx += 1\n",
    "    \n",
    "legendLines = []\n",
    "cl = 0\n",
    "for temp in list(temperatures):\n",
    "    legendLines.append((r'$T=$' + str(int(temp)) + r'$^{\\circ}$C', {'color':colors[cl], 'linestyle':'-', 'linewidth':2.5, 'marker':'s'}))\n",
    "    cl += 1\n",
    "\n",
    "plt.legend([create_dummy_line(**l[1]) for l in legendLines],[l[0] for l in legendLines], \n",
    "           loc = 'upper center', fontsize = 12, ncols = 5, bbox_to_anchor = (0.0, -0.2), shadow = False)\n",
    "\n",
    "plt.savefig(\"CompExpPTM-6.svg\")\n",
    "plt.show()"
   ]
  },
  {
   "cell_type": "code",
   "execution_count": null,
   "id": "a19e8d2a-b1f9-4c04-a71f-2a082540a4de",
   "metadata": {},
   "outputs": [],
   "source": [
    "ARstress = PTMLaw(allData[:,0], allData[:,1], allData[:,2])"
   ]
  },
  {
   "cell_type": "code",
   "execution_count": null,
   "id": "3f6607da-5c11-4c9c-803d-011aeb9e8241",
   "metadata": {
    "tags": []
   },
   "outputs": [],
   "source": [
    "data = np.concatenate((allData[:,0:3],ARstress.reshape((ARstress.shape[0],1))),axis=1)\n",
    "h5f = h5py.File('PTM-6.h5','w')\n",
    "h5f.create_dataset('data', data = data)\n",
    "h5f.close()"
   ]
  },
  {
   "cell_type": "code",
   "execution_count": null,
   "id": "daba793a-92d1-4883-a17c-7cb7cfb9017b",
   "metadata": {
    "tags": []
   },
   "outputs": [],
   "source": [
    "EAAR = np.sum(np.abs((allData[:,3] - ARstress)/(allData[:,3])))*100/ARstress.shape[0]\n",
    "print(\"EAAR = %.2f\" %(EAAR) + ' %')"
   ]
  },
  {
   "cell_type": "code",
   "execution_count": null,
   "id": "5990f60f-56fb-4a53-8d10-570bf804b530",
   "metadata": {
    "tags": []
   },
   "outputs": [],
   "source": [
    "RMSE = np.sqrt(np.sum((allData[:,3] - ARstress)**2)/ARstress.shape[0])\n",
    "print('RMSE = %.2f' %(RMSE)+' MPa')"
   ]
  },
  {
   "cell_type": "code",
   "execution_count": null,
   "id": "960ab2e0-93cf-4842-a8f5-f45a409ba2f0",
   "metadata": {
    "tags": []
   },
   "outputs": [],
   "source": [
    "def outOf(val, i):\n",
    "    if ((val<-i) or (val>i)): return True\n",
    "    return False\n",
    "\n",
    "def conv (v, d):\n",
    "    va = abs(v)\n",
    "    e = int(np.log10(va))\n",
    "    if (va < 1): e-=1\n",
    "    if outOf(e,2):\n",
    "        a = v * 10**(-e)\n",
    "        v = np.round(a * 10**d)/10**d\n",
    "        return str(v)+'\\\\times 10^{'+str(e)+'}'\n",
    "    v = np.round(v * 10**d)/10**d\n",
    "    return str(v)\n",
    "\n",
    "l1=list(fitA.params.values())\n",
    "l2=list(fitB.params.values())\n",
    "l3=list(fitC0.params.values())\n",
    "l4=list(fitC1.params.values())\n",
    "\n",
    "for i in range(np.max([len(l1),len(l2),len(l3),len(l4)])):\n",
    "    s = ''\n",
    "    if i < (len(l1)):\n",
    "        s += l1[i].name+'='+ str(conv(l1[i].value,4))\n",
    "    s+=' & '\n",
    "    if i < (len(l2)):\n",
    "        s += l2[i].name+'='+ str(conv(l2[i].value,4))\n",
    "    s+=' & '\n",
    "    if i < (len(l3)):\n",
    "        s += l3[i].name+'='+ str(conv(l3[i].value,4))\n",
    "    s+=' & '\n",
    "    if i < (len(l4)):\n",
    "        s += l4[i].name+'='+ str(conv(l4[i].value,4))\n",
    "    s+='\\\\\\\\'    \n",
    "    print(s)"
   ]
  },
  {
   "cell_type": "code",
   "execution_count": null,
   "id": "9da2ec04-ea7d-4d9d-b052-db940e6842f9",
   "metadata": {},
   "outputs": [],
   "source": []
  }
 ],
 "metadata": {
  "kernelspec": {
   "display_name": "Python 3 (ipykernel)",
   "language": "python",
   "name": "python3"
  },
  "language_info": {
   "codemirror_mode": {
    "name": "ipython",
    "version": 3
   },
   "file_extension": ".py",
   "mimetype": "text/x-python",
   "name": "python",
   "nbconvert_exporter": "python",
   "pygments_lexer": "ipython3",
   "version": "3.10.6"
  }
 },
 "nbformat": 4,
 "nbformat_minor": 5
}
