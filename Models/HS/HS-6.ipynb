{
 "cells": [
  {
   "cell_type": "markdown",
   "id": "4a200ea4-593d-402e-ab3a-de65724edff3",
   "metadata": {},
   "source": [
    "# Hansel-Spittle with 6 strain rates"
   ]
  },
  {
   "cell_type": "code",
   "execution_count": null,
   "id": "bbdbe72b-66f3-4ce3-b148-e304db0d65b5",
   "metadata": {
    "tags": []
   },
   "outputs": [],
   "source": [
    "import numpy as np\n",
    "import matplotlib.pyplot as plt\n",
    "plt.style.use(\"mime\")\n",
    "import pandas as pd\n",
    "import h5py\n",
    "from scipy.optimize import curve_fit\n",
    "import lmfit\n",
    "\n",
    "colors = ['#bb0000', '#00bb00', \"#0000bb\", '#bbbb00', '#bb00bb', \"#00bbbb\", '#bbbbbb', '#770000', '#007700', \"#000077\", '#777700', '#770077', \"#007777\", '#777777', '#440000', '#004400', \"#000044\", '#444400', '#440044', \"#0044444\", '#444444','#000000']"
   ]
  },
  {
   "cell_type": "code",
   "execution_count": null,
   "id": "af68263b-3f50-4165-a080-93d3bf725b7c",
   "metadata": {
    "tags": []
   },
   "outputs": [],
   "source": [
    "baseSize = (8, 6)  # Base size of a subplot\n",
    "\n",
    "def sbPlot(n):\n",
    "    if (n == 1): return 1, 1\n",
    "    if (n <= 2): return 1, 2\n",
    "    if (n <= 4): return 2, 2\n",
    "    if (n <= 6): return 3, 2\n",
    "    if (n <= 9): return 3, 3\n",
    "    if (n <= 12): return 4, 3\n",
    "    return 0, 0\n",
    "\n",
    "def sbPlotSize(n):\n",
    "    x, y = sbPlot(n)\n",
    "    return baseSize[0] * y, baseSize[1] * x"
   ]
  },
  {
   "cell_type": "code",
   "execution_count": null,
   "id": "198c0372-b038-480d-a09e-c46b56961d3c",
   "metadata": {
    "tags": []
   },
   "outputs": [],
   "source": [
    "h5f = h5py.File('../GleebleData.h5','r')\n",
    "allData = h5f['all'][:]\n",
    "shortData = h5f['short'][:]\n",
    "h5f.close()"
   ]
  },
  {
   "cell_type": "code",
   "execution_count": null,
   "id": "02c662c3-67a2-45a6-9faa-4f6b55925d63",
   "metadata": {
    "tags": []
   },
   "outputs": [],
   "source": [
    "allData.shape, shortData.shape"
   ]
  },
  {
   "cell_type": "markdown",
   "id": "a7e15b5e-ce7b-4a8b-8976-5ecff3badc9b",
   "metadata": {},
   "source": [
    "Remove first point of each curve, where $\\varepsilon^p=0$"
   ]
  },
  {
   "cell_type": "code",
   "execution_count": null,
   "id": "db42b9ee-29f0-48cd-92c2-d61c8088ca5c",
   "metadata": {
    "tags": []
   },
   "outputs": [],
   "source": [
    "allData = allData[allData[:,0] != 0]\n",
    "shortData = shortData[shortData[:,0]!=0]\n",
    "identData = allData"
   ]
  },
  {
   "cell_type": "code",
   "execution_count": null,
   "id": "48e21380-ff65-4309-8a8b-dc1855ad467c",
   "metadata": {
    "tags": []
   },
   "outputs": [],
   "source": [
    "strains = np.unique(identData[:,0])\n",
    "allStrains = np.unique(allData[:,0])\n",
    "epsps = np.unique(identData[:,1])\n",
    "temperatures = np.unique(identData[:,2])\n",
    "nEps = len(strains)\n",
    "nEpsp = len(epsps)\n",
    "nTemp = len(temperatures)\n",
    "strains, epsps, temperatures, nEps, nEpsp, nTemp"
   ]
  },
  {
   "cell_type": "markdown",
   "id": "e8d22c82-7124-4579-a4a6-dabf8b931a24",
   "metadata": {},
   "source": [
    "# Identification of the Hansel-Spittel parameters\n",
    "$\\sigma^y = Ae^{(m_1T)}\\varepsilon^{p^{m_2}}\\dot\\varepsilon^{p^{m_3}}e^{(\\frac{m_4}{\\varepsilon^p})}(1+\\varepsilon^p)^{(m_5T)}e^{(m_6\\varepsilon^p)}\\dot\\varepsilon^{p^{(m_7T)}} T^{m_8}$\n",
    "\n",
    "$\\ln \\sigma^y = \\ln A + m_1T + m_2\\ln\\varepsilon^p + m_3\\ln\\dot{\\varepsilon^p}+ \\frac{m_4}{\\varepsilon^p} + m_5T\\ln (1+\\varepsilon^p) + m_6\\varepsilon^p + m_7T\\ln \\dot{\\varepsilon^p} + m_8\\ln T$"
   ]
  },
  {
   "cell_type": "code",
   "execution_count": null,
   "id": "a0d8d069-e7b1-40ca-8ae0-d9a5bf241530",
   "metadata": {
    "tags": []
   },
   "outputs": [],
   "source": [
    "T0 = temperatures[0]\n",
    "epsp0 = epsps[0]\n",
    "Tm = 1460"
   ]
  },
  {
   "cell_type": "code",
   "execution_count": null,
   "id": "47988363-5853-4689-8e0e-cb30a144f736",
   "metadata": {
    "tags": []
   },
   "outputs": [],
   "source": [
    "def HS5(epsp, depsp, T, opt):\n",
    "    return opt['A'] * np.exp(opt['m1']*T) * epsp**(opt['m2']) * depsp**(opt['m3']) * np.exp(opt['m4']/epsp) * (1+epsp)**(opt['m5']*T)\n",
    "\n",
    "def HS6(epsp, depsp, T, opt):\n",
    "    return opt['A'] * np.exp(opt['m1']*T) * epsp**(opt['m2']) * depsp**(opt['m3']) * np.exp(opt['m4']/epsp) * (1+epsp)**(opt['m5']*T) * np.exp(opt['m6']*epsp)\n",
    "\n",
    "def HS7(epsp, depsp, T, opt):\n",
    "    return opt['A'] * np.exp(opt['m1']*T) * epsp**(opt['m2']) * depsp**(opt['m3']) * np.exp(opt['m4']/epsp) * (1+epsp)**(opt['m5']*T) * np.exp(opt['m6']*epsp) * depsp**(opt['m7']*T)\n",
    "\n",
    "def HS8(epsp, depsp, T, opt):\n",
    "    return opt['A'] * np.exp(opt['m1']*T) * epsp**(opt['m2']) * depsp**(opt['m3']) * np.exp(opt['m4']/epsp) * (1+epsp)**(opt['m5']*T) * np.exp(opt['m6']*epsp) * depsp**(opt['m7']*T) * T**(opt['m8'])"
   ]
  },
  {
   "cell_type": "markdown",
   "id": "8cffc18f-f828-4aef-a180-910380f030ca",
   "metadata": {
    "execution": {
     "iopub.execute_input": "2022-10-20T09:51:28.317864Z",
     "iopub.status.busy": "2022-10-20T09:51:28.316995Z",
     "iopub.status.idle": "2022-10-20T09:51:28.327202Z",
     "shell.execute_reply": "2022-10-20T09:51:28.324644Z",
     "shell.execute_reply.started": "2022-10-20T09:51:28.317785Z"
    },
    "tags": []
   },
   "source": [
    "## 5 Parameters"
   ]
  },
  {
   "cell_type": "code",
   "execution_count": null,
   "id": "19173ad1-cff0-46a7-a2b0-cacac8c9867e",
   "metadata": {
    "tags": []
   },
   "outputs": [],
   "source": [
    "param5 = lmfit.Parameters()\n",
    "param5.add('A', value = 1e3, min = 0.0)\n",
    "param5.add('m1', value = 0.1)\n",
    "param5.add('m2', value = 00.1)\n",
    "param5.add('m3', value = 00.1)\n",
    "param5.add('m4', value = 00.1)\n",
    "param5.add('m5', value = 00.1)\n",
    "param5"
   ]
  },
  {
   "cell_type": "code",
   "execution_count": null,
   "id": "c6b8883a-89a2-468d-be2f-7dbaef57981e",
   "metadata": {
    "tags": []
   },
   "outputs": [],
   "source": [
    "def OF5(opt):\n",
    "    return identData[:,3] - HS5(identData[:,0], identData[:,1], identData[:,2], opt)\n",
    "fit5 = lmfit.minimize(OF5, param5)\n",
    "fit5"
   ]
  },
  {
   "cell_type": "markdown",
   "id": "53b38965-241c-42f4-a571-01fcc5fe5391",
   "metadata": {
    "execution": {
     "iopub.execute_input": "2022-10-20T09:51:28.317864Z",
     "iopub.status.busy": "2022-10-20T09:51:28.316995Z",
     "iopub.status.idle": "2022-10-20T09:51:28.327202Z",
     "shell.execute_reply": "2022-10-20T09:51:28.324644Z",
     "shell.execute_reply.started": "2022-10-20T09:51:28.317785Z"
    },
    "tags": []
   },
   "source": [
    "## 6 Parameters"
   ]
  },
  {
   "cell_type": "code",
   "execution_count": null,
   "id": "625b7eff-ddcf-4ca9-afc4-4ec4c32b8f69",
   "metadata": {
    "tags": []
   },
   "outputs": [],
   "source": [
    "param6 = lmfit.Parameters()\n",
    "param6.add('A', value = 1e3, min = 0.0)\n",
    "param6.add('m1', value = 0)\n",
    "param6.add('m2', value = 0)\n",
    "param6.add('m3', value = 0)\n",
    "param6.add('m4', value = 0)\n",
    "param6.add('m5', value = 0)\n",
    "param6.add('m6', value = 0)\n",
    "param6"
   ]
  },
  {
   "cell_type": "code",
   "execution_count": null,
   "id": "7feef8d2-d267-4f61-b974-0a7621bbdcd8",
   "metadata": {
    "tags": []
   },
   "outputs": [],
   "source": [
    "def OF6(opt):\n",
    "    return identData[:,3] - HS6(identData[:,0], identData[:,1], identData[:,2], opt)\n",
    "fit6 = lmfit.minimize(OF6, param6)\n",
    "fit6"
   ]
  },
  {
   "cell_type": "markdown",
   "id": "c56816c4-22a6-4164-9fa3-5ee70d81bbdf",
   "metadata": {
    "execution": {
     "iopub.execute_input": "2022-10-20T09:51:28.317864Z",
     "iopub.status.busy": "2022-10-20T09:51:28.316995Z",
     "iopub.status.idle": "2022-10-20T09:51:28.327202Z",
     "shell.execute_reply": "2022-10-20T09:51:28.324644Z",
     "shell.execute_reply.started": "2022-10-20T09:51:28.317785Z"
    },
    "tags": []
   },
   "source": [
    "## 7 Parameters"
   ]
  },
  {
   "cell_type": "code",
   "execution_count": null,
   "id": "5ec2d046-8175-41e9-aef7-e8e65a0a8f4d",
   "metadata": {
    "tags": []
   },
   "outputs": [],
   "source": [
    "param7 = lmfit.Parameters()\n",
    "param7.add('A', value = 1e3, min = 0.0)\n",
    "param7.add('m1', value = 0)\n",
    "param7.add('m2', value = 0)\n",
    "param7.add('m3', value = 0)\n",
    "param7.add('m4', value = 0)\n",
    "param7.add('m5', value = 0)\n",
    "param7.add('m6', value = 0)\n",
    "param7.add('m7', value = 0)\n",
    "param7"
   ]
  },
  {
   "cell_type": "code",
   "execution_count": null,
   "id": "db6381ac-1080-4306-bc3e-1ddb8324baab",
   "metadata": {
    "tags": []
   },
   "outputs": [],
   "source": [
    "def OF7(opt):\n",
    "    return identData[:,3] - HS7(identData[:,0], identData[:,1], identData[:,2], opt)\n",
    "fit7 = lmfit.minimize(OF7, param7)\n",
    "fit7"
   ]
  },
  {
   "cell_type": "markdown",
   "id": "fad32b5b-eebe-4d0c-b430-9464755c2151",
   "metadata": {
    "execution": {
     "iopub.execute_input": "2022-10-20T09:51:28.317864Z",
     "iopub.status.busy": "2022-10-20T09:51:28.316995Z",
     "iopub.status.idle": "2022-10-20T09:51:28.327202Z",
     "shell.execute_reply": "2022-10-20T09:51:28.324644Z",
     "shell.execute_reply.started": "2022-10-20T09:51:28.317785Z"
    },
    "tags": []
   },
   "source": [
    "## 8 Parameters"
   ]
  },
  {
   "cell_type": "code",
   "execution_count": null,
   "id": "f467a936-06cb-42de-a420-a31a36035ac2",
   "metadata": {
    "tags": []
   },
   "outputs": [],
   "source": [
    "param8 = lmfit.Parameters()\n",
    "param8.add('A', value = 1e3, min = 0.0)\n",
    "param8.add('m1', value = 0)\n",
    "param8.add('m2', value = 0)\n",
    "param8.add('m3', value = 0)\n",
    "param8.add('m4', value = 0)\n",
    "param8.add('m5', value = 0)\n",
    "param8.add('m6', value = 0)\n",
    "param8.add('m7', value = 0)\n",
    "param8.add('m8', value = 0)\n",
    "param8"
   ]
  },
  {
   "cell_type": "code",
   "execution_count": null,
   "id": "28ddb9f7-f83c-4add-afbc-6d9539e28e0d",
   "metadata": {
    "tags": []
   },
   "outputs": [],
   "source": [
    "def OF8(opt):\n",
    "    return identData[:,3] - HS8(identData[:,0], identData[:,1], identData[:,2], opt)\n",
    "fit8 = lmfit.minimize(OF8, param8)\n",
    "fit8"
   ]
  },
  {
   "cell_type": "code",
   "execution_count": null,
   "id": "2562a94c-b754-44bb-8e42-c353cab44217",
   "metadata": {
    "tags": []
   },
   "outputs": [],
   "source": [
    "# Plot the curves\n",
    "from matplotlib.lines import Line2D\n",
    "def create_dummy_line(**kwds):\n",
    "    return Line2D([], [], **kwds)\n",
    "\n",
    "plt.figure(figsize = sbPlotSize(nEpsp))\n",
    "plt.rc('text', usetex = True)\n",
    "idx = 1\n",
    "plt.subplots_adjust(hspace = 0.3)\n",
    "for epsp in list(epsps):\n",
    "    xs, ys = sbPlot(nEpsp)\n",
    "    plt.subplot(xs, ys, idx)\n",
    "    sbdata = shortData[shortData[:,1] == epsp]\n",
    "    cl =0\n",
    "    for temp in list(temperatures):\n",
    "        sbdata1 = sbdata[sbdata[:,2] == temp]\n",
    "        plt.plot(sbdata1[:,0], sbdata1[:,3], colors[cl], marker = 's', markersize = 5, linestyle = 'none')\n",
    "        plt.plot(strains, HS5(strains, epsp, temp, fit5.params), colors[cl], linewidth = 2.5)\n",
    "        #plt.plot(strains, HS6(strains, epsp, temp, fit6.params), colors[cl], linewidth = 2.5)\n",
    "        plt.plot(strains, HS7(strains, epsp, temp, fit7.params), colors[cl], linewidth = 2.5)\n",
    "        #plt.plot(strains, HS8(strains, epsp, temp, fit8.params), colors[cl], linewidth = 2.5)\n",
    "        plt.rcParams['xtick.labelsize'] = 16\n",
    "        plt.rcParams['ytick.labelsize'] = 16\n",
    "        cl += 1\n",
    "    plt.xlim(0, 0.7)\n",
    "    plt.ylim(bottom = 0)\n",
    "    plt.xlabel(r'strain $\\varepsilon$', fontsize = 16) # Labels the x axis\n",
    "    plt.ylabel(r'flow stress $\\sigma^y$ (MPa)', fontsize = 16) # Labels the y axis\n",
    "    plt.title(r'strain rate $\\dot{\\varepsilon} = ' + str(epsp) + '$ s$^{-1}$', fontsize = 16) # Self explicit command\n",
    "    idx += 1\n",
    "\n",
    "legendLines = []\n",
    "cl = 0\n",
    "for temp in list(temperatures):\n",
    "    legendLines.append((r'$T=$' + str(int(temp)) + r'$^{\\circ}$C', {'color':colors[cl], 'linestyle':'-', 'linewidth':2.5, 'marker':'s'}))\n",
    "    cl += 1\n",
    "\n",
    "plt.legend([create_dummy_line(**l[1]) for l in legendLines],[l[0] for l in legendLines], \n",
    "           loc = 'upper center', fontsize = 12, ncols = 5, bbox_to_anchor = (0.0, -0.2), shadow = False)\n",
    "\n",
    "plt.savefig(\"CompExpHS.svg\")\n",
    "plt.show()"
   ]
  },
  {
   "cell_type": "code",
   "execution_count": null,
   "id": "9fa4fc68-8ddc-4e92-ba1c-94e1992850da",
   "metadata": {
    "tags": []
   },
   "outputs": [],
   "source": [
    "HS5stress = HS5(allData[:,0], allData[:,1], allData[:,2], fit5.params)\n",
    "HS6stress = HS6(allData[:,0], allData[:,1], allData[:,2], fit6.params)\n",
    "HS7stress = HS7(allData[:,0], allData[:,1], allData[:,2], fit7.params)\n",
    "HS8stress = HS8(allData[:,0], allData[:,1], allData[:,2], fit8.params)\n",
    "HSstress = HS7stress"
   ]
  },
  {
   "cell_type": "code",
   "execution_count": null,
   "id": "a6cd2612-bd56-41f9-863a-3b4b10cf8784",
   "metadata": {
    "tags": []
   },
   "outputs": [],
   "source": [
    "data = np.concatenate((allData[:,0:3],HSstress.reshape((HSstress.shape[0],1))),axis=1)\n",
    "h5f = h5py.File('HS-6.h5','w')\n",
    "h5f.create_dataset('data', data = data)\n",
    "h5f.close()"
   ]
  },
  {
   "cell_type": "code",
   "execution_count": null,
   "id": "daba793a-92d1-4883-a17c-7cb7cfb9017b",
   "metadata": {
    "tags": []
   },
   "outputs": [],
   "source": [
    "EAAR5 = np.sum(np.abs((allData[:,3] - HS5stress)/(allData[:,3])))*100/HS5stress.shape[0]\n",
    "EAAR6 = np.sum(np.abs((allData[:,3] - HS6stress)/(allData[:,3])))*100/HS6stress.shape[0]\n",
    "EAAR7 = np.sum(np.abs((allData[:,3] - HS7stress)/(allData[:,3])))*100/HS7stress.shape[0]\n",
    "EAAR8 = np.sum(np.abs((allData[:,3] - HS8stress)/(allData[:,3])))*100/HS8stress.shape[0]\n",
    "print(\"EAAR5 = %g\" %(EAAR5) + ' %')\n",
    "print(\"EAAR6 = %g\" %(EAAR6) + ' %')\n",
    "print(\"EAAR7 = %g\" %(EAAR7) + ' %')\n",
    "print(\"EAAR8 = %g\" %(EAAR8) + ' %')"
   ]
  },
  {
   "cell_type": "code",
   "execution_count": null,
   "id": "5990f60f-56fb-4a53-8d10-570bf804b530",
   "metadata": {
    "tags": []
   },
   "outputs": [],
   "source": [
    "RMSE5 = np.sqrt(np.sum((allData[:,3] - HS5stress)**2)/HS5stress.shape[0])\n",
    "RMSE6 = np.sqrt(np.sum((allData[:,3] - HS6stress)**2)/HS6stress.shape[0])\n",
    "RMSE7 = np.sqrt(np.sum((allData[:,3] - HS7stress)**2)/HS7stress.shape[0])\n",
    "RMSE8 = np.sqrt(np.sum((allData[:,3] - HS8stress)**2)/HS8stress.shape[0])\n",
    "print('RMSE5 = %g' %(RMSE5)+' MPa')\n",
    "print('RMSE6 = %g' %(RMSE6)+' MPa')\n",
    "print('RMSE7 = %g' %(RMSE7)+' MPa')\n",
    "print('RMSE8 = %g' %(RMSE8)+' MPa')"
   ]
  },
  {
   "cell_type": "code",
   "execution_count": null,
   "id": "c240411d-4636-4f88-b8cd-a4deedaf3bab",
   "metadata": {
    "tags": []
   },
   "outputs": [],
   "source": [
    "import math\n",
    "\n",
    "def truncate(number, decimals=0):\n",
    "    \"\"\"\n",
    "    Returns a value truncated to a specific number of decimal places.\n",
    "    \"\"\"\n",
    "    if not isinstance(decimals, int):\n",
    "        raise TypeError(\"decimal places must be an integer.\")\n",
    "    elif decimals < 0:\n",
    "        raise ValueError(\"decimal places has to be 0 or more.\")\n",
    "    elif decimals == 0:\n",
    "        return math.trunc(number)\n",
    "\n",
    "    factor = 10.0 ** decimals\n",
    "    return math.trunc(number * factor) / factor\n",
    "\n",
    "for p in list(fit7.params.values()):\n",
    "    print(p.name,\"=\",truncate(p.value,4))"
   ]
  },
  {
   "cell_type": "code",
   "execution_count": null,
   "id": "37cb9acd-d536-4fb2-9906-4366550af9e1",
   "metadata": {},
   "outputs": [],
   "source": []
  }
 ],
 "metadata": {
  "kernelspec": {
   "display_name": "Python 3 (ipykernel)",
   "language": "python",
   "name": "python3"
  },
  "language_info": {
   "codemirror_mode": {
    "name": "ipython",
    "version": 3
   },
   "file_extension": ".py",
   "mimetype": "text/x-python",
   "name": "python",
   "nbconvert_exporter": "python",
   "pygments_lexer": "ipython3",
   "version": "3.10.6"
  }
 },
 "nbformat": 4,
 "nbformat_minor": 5
}
