{
 "cells": [
  {
   "cell_type": "markdown",
   "id": "4a200ea4-593d-402e-ab3a-de65724edff3",
   "metadata": {},
   "source": [
    "# MZA with 6 strain rates"
   ]
  },
  {
   "cell_type": "code",
   "execution_count": null,
   "id": "bbdbe72b-66f3-4ce3-b148-e304db0d65b5",
   "metadata": {
    "tags": []
   },
   "outputs": [],
   "source": [
    "import numpy as np\n",
    "import matplotlib.pyplot as plt\n",
    "plt.style.use(\"mime\")\n",
    "import pandas as pd\n",
    "import h5py\n",
    "from scipy.optimize import curve_fit\n",
    "\n",
    "colors = ['#bb0000', '#00bb00', \"#0000bb\", '#bbbb00', '#bb00bb', \"#00bbbb\", '#bbbbbb', '#770000', '#007700', \"#000077\", '#777700', '#770077', \"#007777\", '#777777', '#440000', '#004400', \"#000044\", '#444400', '#440044', \"#0044444\", '#444444','#000000']"
   ]
  },
  {
   "cell_type": "code",
   "execution_count": null,
   "id": "af68263b-3f50-4165-a080-93d3bf725b7c",
   "metadata": {
    "tags": []
   },
   "outputs": [],
   "source": [
    "baseSize = (8, 6)  # Base size of a subplot\n",
    "\n",
    "def sbPlot(n):\n",
    "    if (n == 1): return 1, 1\n",
    "    if (n <= 2): return 1, 2\n",
    "    if (n <= 4): return 2, 2\n",
    "    if (n <= 6): return 3, 2\n",
    "    if (n <= 9): return 3, 3\n",
    "    if (n <= 12): return 4, 3\n",
    "    return 0, 0\n",
    "\n",
    "def sbPlotSize(n):\n",
    "    x, y = sbPlot(n)\n",
    "    return baseSize[0] * y, baseSize[1] * x"
   ]
  },
  {
   "cell_type": "code",
   "execution_count": null,
   "id": "198c0372-b038-480d-a09e-c46b56961d3c",
   "metadata": {
    "tags": []
   },
   "outputs": [],
   "source": [
    "h5f = h5py.File('../GleebleData.h5','r')\n",
    "allData = h5f['all'][:]\n",
    "shortData = h5f['short'][:]\n",
    "h5f.close()"
   ]
  },
  {
   "cell_type": "code",
   "execution_count": null,
   "id": "02c662c3-67a2-45a6-9faa-4f6b55925d63",
   "metadata": {
    "tags": []
   },
   "outputs": [],
   "source": [
    "allData.shape, shortData.shape"
   ]
  },
  {
   "cell_type": "markdown",
   "id": "cc28e610-9867-450b-b589-315fd1bf0745",
   "metadata": {},
   "source": [
    "Remove first point of each curve, where $\\varepsilon^p=0$"
   ]
  },
  {
   "cell_type": "code",
   "execution_count": null,
   "id": "22e012b9-5a5e-498d-b103-1504970c7ca6",
   "metadata": {
    "tags": []
   },
   "outputs": [],
   "source": [
    "allData = allData[allData[:,0] != 0]\n",
    "shortData = shortData[shortData[:,0]!=0]\n",
    "identData = allData[allData[:,0] > 0.01]"
   ]
  },
  {
   "cell_type": "code",
   "execution_count": null,
   "id": "48e21380-ff65-4309-8a8b-dc1855ad467c",
   "metadata": {
    "tags": []
   },
   "outputs": [],
   "source": [
    "strains = np.unique(identData[:,0])\n",
    "allStrains = np.unique(allData[:,0])\n",
    "epsps = np.unique(identData[:,1])\n",
    "temperatures = np.unique(identData[:,2])\n",
    "nEps = len(strains)\n",
    "nEpsp = len(epsps)\n",
    "nTemp = len(temperatures)\n",
    "strains, epsps, temperatures, nEps, nEpsp, nTemp"
   ]
  },
  {
   "cell_type": "markdown",
   "id": "e8d22c82-7124-4579-a4a6-dabf8b931a24",
   "metadata": {},
   "source": [
    "# Identification of the MZA parameters\n",
    "$\\sigma^y = (C_1 + C_2\\varepsilon^n) \\exp\\left[-(C_3 + C_4\\varepsilon^p) + (C_5 + C_6(T-T_0))\\ln\\left(\\frac{\\dot{\\varepsilon^p}}{\\dot{\\varepsilon^p_0}}\\right)\\right]$"
   ]
  },
  {
   "cell_type": "code",
   "execution_count": null,
   "id": "a0d8d069-e7b1-40ca-8ae0-d9a5bf241530",
   "metadata": {
    "tags": []
   },
   "outputs": [],
   "source": [
    "T0 = temperatures[0]\n",
    "epsp0 = epsps[0]\n",
    "Tm = 1460"
   ]
  },
  {
   "cell_type": "code",
   "execution_count": null,
   "id": "c4408bf8-21ea-42c8-88cc-f8cb2e0db91d",
   "metadata": {
    "tags": []
   },
   "outputs": [],
   "source": [
    "C1 = allData[(allData[:,1]==epsp0) & (allData[:,2]==T0)][0,3]\n",
    "print(\"C1=%g\" %(C1))"
   ]
  },
  {
   "cell_type": "markdown",
   "id": "01bbe33b-2abc-4682-8f5a-65bee9438594",
   "metadata": {},
   "source": [
    "Get the curves for the reference strain rate"
   ]
  },
  {
   "cell_type": "code",
   "execution_count": null,
   "id": "4dc2db2b-8b7e-4e70-a343-869e317d28a6",
   "metadata": {
    "tags": []
   },
   "outputs": [],
   "source": [
    "Sig = identData[identData[:,1] == epsp0]"
   ]
  },
  {
   "cell_type": "code",
   "execution_count": null,
   "id": "77150e3b-85eb-4bf6-9884-452ba5793fea",
   "metadata": {
    "tags": []
   },
   "outputs": [],
   "source": [
    "I1 = []\n",
    "S1 = []\n",
    "J1 = []\n",
    "for epsj in strains:\n",
    "    sbdata = Sig[Sig[:,0] == epsj]\n",
    "    params = np.polyfit((sbdata[:,2] - T0), np.log(sbdata[:,3]), 1)\n",
    "    s1, i1 = params\n",
    "    j1 = np.exp(i1)\n",
    "    S1.append(s1)\n",
    "    I1.append(i1)\n",
    "    J1.append(j1)"
   ]
  },
  {
   "cell_type": "code",
   "execution_count": null,
   "id": "782ed091-dffa-4dae-a73a-5b6a271faf37",
   "metadata": {
    "tags": []
   },
   "outputs": [],
   "source": [
    "(J1-C1)[2:]"
   ]
  },
  {
   "cell_type": "code",
   "execution_count": null,
   "id": "9d17da6e-e84e-4d99-b52c-a9ec63203a9f",
   "metadata": {
    "tags": []
   },
   "outputs": [],
   "source": [
    "params = np.polyfit(np.log(strains), np.log(J1-C1), 1)\n",
    "s, i = params\n",
    "n = s\n",
    "C2 = np.exp(i)\n",
    "print(\"n=%g, C2=%g\" %(n, C2))"
   ]
  },
  {
   "cell_type": "code",
   "execution_count": null,
   "id": "8958a3c3-8929-4f3e-bf41-e7dc16d5618b",
   "metadata": {
    "tags": []
   },
   "outputs": [],
   "source": [
    "params = np.polyfit(strains, S1, 1)\n",
    "s, i = params\n",
    "C3 = -i\n",
    "C4 = -s\n",
    "print(\"C3=%g, C4=%g\" %(C3, C4))"
   ]
  },
  {
   "cell_type": "code",
   "execution_count": null,
   "id": "602b3b31-7ec2-4180-af99-20ffcb5dde75",
   "metadata": {
    "tags": []
   },
   "outputs": [],
   "source": [
    "def LinearFunction(x, a, b):\n",
    "    return a*x + b\n",
    "\n",
    "c5 = []\n",
    "c6 = []\n",
    "cl=0\n",
    "for epsj in strains[:10]:\n",
    "    sbdata = identData[identData[:,0]==epsj]\n",
    "    S2 = []\n",
    "    for temp in temperatures:\n",
    "        sbdata1 = sbdata[sbdata[:,2]==temp]\n",
    "        params1 = np.polyfit(np.log(sbdata1[:,1]/epsp0), (np.log(sbdata1[:,3])), 1)\n",
    "        s1, i1 = params1\n",
    "        S2.append(s1)\n",
    "    params2 = np.polyfit(temperatures-T0, S2, 1) \n",
    "    s2,i2 = params2\n",
    "    s2,i2\n",
    "    c5.append(i2)\n",
    "    c6.append(s2)\n",
    "    cl +=1\n",
    "C5 = np.mean(c5)\n",
    "C6 = np.mean(c6)\n",
    "C5,C6\n",
    "print(\"C5=%g, C6=%g\" %(C5, C6))"
   ]
  },
  {
   "cell_type": "code",
   "execution_count": null,
   "id": "4263aef4-47dc-4a04-84b0-7c4d345e30d2",
   "metadata": {
    "tags": []
   },
   "outputs": [],
   "source": [
    "C1,C2,C3,C4,C5,C6,n"
   ]
  },
  {
   "cell_type": "code",
   "execution_count": null,
   "id": "b869c46f-68cf-4cdb-9c81-366c23ff1bf0",
   "metadata": {
    "tags": []
   },
   "outputs": [],
   "source": [
    "def MZAconstitutiveLaw(eps, epsp, T):\n",
    "    return (C1 + C2 * eps**n) * np.exp(-(C3 + C4 *eps) *(T-T0) + (C5 + C6*(T-T0))*np.log(epsp / epsp0))"
   ]
  },
  {
   "cell_type": "code",
   "execution_count": null,
   "id": "2562a94c-b754-44bb-8e42-c353cab44217",
   "metadata": {
    "tags": []
   },
   "outputs": [],
   "source": [
    "# Plot the curves\n",
    "from matplotlib.lines import Line2D\n",
    "def create_dummy_line(**kwds):\n",
    "    return Line2D([], [], **kwds)\n",
    "\n",
    "plt.figure(figsize = sbPlotSize(nEpsp))\n",
    "plt.rc('text', usetex = True)\n",
    "idx = 1\n",
    "plt.subplots_adjust(hspace = 0.3)\n",
    "for epsp in list(epsps):\n",
    "    legendLine = []\n",
    "    xs, ys = sbPlot(nEpsp)\n",
    "    plt.subplot(xs, ys, idx)\n",
    "    sbdata = shortData[shortData[:,1]==epsp]\n",
    "    cl =0\n",
    "    for temp in list(temperatures):\n",
    "        sbdata1 = sbdata[sbdata[:,2]==temp]\n",
    "        plt.plot(sbdata1[:,0], sbdata1[:,3], colors[cl], marker = 's', markersize = 5, linestyle = 'none')\n",
    "        plt.plot(allStrains, MZAconstitutiveLaw(allStrains, epsp, temp), colors[cl], linewidth = 2.5)\n",
    "        plt.rcParams['xtick.labelsize'] = 16\n",
    "        plt.rcParams['ytick.labelsize'] = 16\n",
    "        legendLine.append((r'$T=$' + str(int(temp)) + r'$^{\\circ}$C', {'color':colors[cl], 'linestyle':'-', 'linewidth':2.5, 'marker':'s'}))\n",
    "        cl +=1\n",
    "    plt.xlim(0, 0.7)\n",
    "    plt.ylim(bottom=0)\n",
    "    plt.xlabel(r'plastic strain $\\varepsilon^p$', fontsize = 16) # Labels the x axis\n",
    "    plt.ylabel(r'flow stress $\\sigma^y$ (MPa)', fontsize = 16) # Labels the y axis\n",
    "    plt.title(r'$\\dot{\\varepsilon^p} = ' + str(epsp) + '$ s$^{-1}$', fontsize = 16) # Self explicit command\n",
    "    idx += 1\n",
    "plt.legend([create_dummy_line(**l[1]) for l in legendLine],[l[0] for l in legendLine], \n",
    "           loc = 'upper center', fontsize = 12, ncols = 5, bbox_to_anchor = (0.0, -0.2), shadow = False)\n",
    "plt.savefig(\"CompExpMZA.svg\")\n",
    "plt.show()"
   ]
  },
  {
   "cell_type": "code",
   "execution_count": null,
   "id": "9fa4fc68-8ddc-4e92-ba1c-94e1992850da",
   "metadata": {
    "tags": []
   },
   "outputs": [],
   "source": [
    "MZAstress = MZAconstitutiveLaw(allData[:,0], allData[:,1], allData[:,2])"
   ]
  },
  {
   "cell_type": "code",
   "execution_count": null,
   "id": "3b0b6954-c8b3-47f6-a215-f93241598580",
   "metadata": {
    "tags": []
   },
   "outputs": [],
   "source": [
    "data = np.concatenate((allData[:,0:3],MZAstress.reshape((MZAstress.shape[0],1))),axis=1)\n",
    "h5f = h5py.File('MZA-6.h5','w')\n",
    "h5f.create_dataset('data', data = data)\n",
    "h5f.close()"
   ]
  },
  {
   "cell_type": "code",
   "execution_count": null,
   "id": "daba793a-92d1-4883-a17c-7cb7cfb9017b",
   "metadata": {
    "tags": []
   },
   "outputs": [],
   "source": [
    "EAAR = np.sum(np.abs((allData[:,3] - MZAstress)/(allData[:,3])))*100/MZAstress.shape[0]\n",
    "print(\"EAAR = %.2f\" %(EAAR) + ' %')"
   ]
  },
  {
   "cell_type": "code",
   "execution_count": null,
   "id": "5990f60f-56fb-4a53-8d10-570bf804b530",
   "metadata": {
    "tags": []
   },
   "outputs": [],
   "source": [
    "RMSE = np.sqrt(np.sum((allData[:,3] - MZAstress)**2)/MZAstress.shape[0])\n",
    "print('RMSE = %.2f' %(RMSE)+' MPa')"
   ]
  },
  {
   "cell_type": "code",
   "execution_count": null,
   "id": "c240411d-4636-4f88-b8cd-a4deedaf3bab",
   "metadata": {
    "tags": []
   },
   "outputs": [],
   "source": [
    "C1,C2,C3,C4,C5,C6,n"
   ]
  },
  {
   "cell_type": "code",
   "execution_count": null,
   "id": "0d496837-ffb3-471f-a145-b04514c1c8d2",
   "metadata": {
    "tags": []
   },
   "outputs": [],
   "source": [
    "def outOf(val, i):\n",
    "    if ((val<-i) or (val>i)): return True\n",
    "    return False\n",
    "\n",
    "def conv (v, d):\n",
    "    va = abs(v)\n",
    "    e = int(np.log10(va))\n",
    "    if (va < 1): e-=1\n",
    "    if outOf(e,2):\n",
    "        a = v * 10**(-e)\n",
    "        v = np.round(a * 10**d)/10**d\n",
    "        return str(v)+'\\\\times 10^{'+str(e)+'}'\n",
    "    v = np.round(v * 10**d)/10**d\n",
    "    return str(v)\n",
    "\n",
    "print(\"C1 =\",conv(C1,4))\n",
    "print(\"C2 =\",conv(C2,4))\n",
    "print(\"C3 =\",conv(C3,4))\n",
    "print(\"C4 =\",conv(C4,4))\n",
    "print(\"C5 =\",conv(C5,4))\n",
    "print(\"C6 =\",conv(C6,4))\n",
    "print(\"n =\",conv(n,4))\n",
    "\n",
    "print(conv(C1,4),'&',conv(C2,4),'&',conv(C3,4),'&',conv(C4,4),'&',conv(C5,4),'&',conv(C6,4),'&',conv(n,4))"
   ]
  },
  {
   "cell_type": "code",
   "execution_count": null,
   "id": "71a85b2e-5ab1-4cd1-a805-e39dfeddf2fe",
   "metadata": {},
   "outputs": [],
   "source": []
  }
 ],
 "metadata": {
  "kernelspec": {
   "display_name": "Python 3 (ipykernel)",
   "language": "python",
   "name": "python3"
  },
  "language_info": {
   "codemirror_mode": {
    "name": "ipython",
    "version": 3
   },
   "file_extension": ".py",
   "mimetype": "text/x-python",
   "name": "python",
   "nbconvert_exporter": "python",
   "pygments_lexer": "ipython3",
   "version": "3.10.6"
  }
 },
 "nbformat": 4,
 "nbformat_minor": 5
}
